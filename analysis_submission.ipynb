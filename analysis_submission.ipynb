{
 "cells": [
  {
   "cell_type": "markdown",
   "metadata": {},
   "source": [
    "## Data Analysis of Head Start Accessibility and Impact across the Continental U.S.\n",
    "\n",
    "- Presented by team <b>Data Miners</b> for <b>2023 AGA Datathon</b>"
   ]
  },
  {
   "cell_type": "code",
   "execution_count": 224,
   "metadata": {},
   "outputs": [],
   "source": [
    "import pandas as pd\n",
    "import numpy as np\n",
    "import matplotlib.pyplot as plt\n",
    "import seaborn as sns\n",
    "import scipy.stats as stats\n",
    "import os\n",
    "import math\n",
    "import sys\n",
    "import geopy.distance\n",
    "from itertools import combinations\n",
    "from sklearn.linear_model import LinearRegression\n",
    "\n",
    "pd.set_option('display.float_format', lambda x: '%.3f' % x)"
   ]
  },
  {
   "cell_type": "markdown",
   "metadata": {},
   "source": [
    "#### Loading Datasets\n",
    "\n",
    "##### List of data source:\n",
    "- Head Start Program Facts: Fiscal Year 2021: https://eclkc.ohs.acf.hhs.gov/about-us/article/head-start-program-facts-fiscal-year-2021\n",
    "\n",
    "- Head Start Center Locations: https://eclkc.ohs.acf.hhs.gov/sites/default/files/locatordata/ALL_all.csv\n",
    "\n",
    "- SAIPE Child Poverty Data: https://www.census.gov/data/datasets/2021/demo/saipe/2021-state-and-county.html\n",
    "\n",
    "- U.S. States Economic Data: https://apps.bea.gov/regional/downloadzip.cfm"
   ]
  },
  {
   "cell_type": "code",
   "execution_count": 225,
   "metadata": {},
   "outputs": [
    {
     "data": {
      "text/html": [
       "<div>\n",
       "<style scoped>\n",
       "    .dataframe tbody tr th:only-of-type {\n",
       "        vertical-align: middle;\n",
       "    }\n",
       "\n",
       "    .dataframe tbody tr th {\n",
       "        vertical-align: top;\n",
       "    }\n",
       "\n",
       "    .dataframe thead th {\n",
       "        text-align: right;\n",
       "    }\n",
       "</style>\n",
       "<table border=\"1\" class=\"dataframe\">\n",
       "  <thead>\n",
       "    <tr style=\"text-align: right;\">\n",
       "      <th></th>\n",
       "      <th>State</th>\n",
       "      <th>Abbreviation</th>\n",
       "    </tr>\n",
       "  </thead>\n",
       "  <tbody>\n",
       "    <tr>\n",
       "      <th>0</th>\n",
       "      <td>Alabama</td>\n",
       "      <td>AL</td>\n",
       "    </tr>\n",
       "    <tr>\n",
       "      <th>1</th>\n",
       "      <td>Alaska</td>\n",
       "      <td>AK</td>\n",
       "    </tr>\n",
       "    <tr>\n",
       "      <th>2</th>\n",
       "      <td>Arizona</td>\n",
       "      <td>AZ</td>\n",
       "    </tr>\n",
       "    <tr>\n",
       "      <th>3</th>\n",
       "      <td>Arkansas</td>\n",
       "      <td>AR</td>\n",
       "    </tr>\n",
       "    <tr>\n",
       "      <th>4</th>\n",
       "      <td>California</td>\n",
       "      <td>CA</td>\n",
       "    </tr>\n",
       "  </tbody>\n",
       "</table>\n",
       "</div>"
      ],
      "text/plain": [
       "        State Abbreviation\n",
       "0     Alabama           AL\n",
       "1      Alaska           AK\n",
       "2     Arizona           AZ\n",
       "3    Arkansas           AR\n",
       "4  California           CA"
      ]
     },
     "execution_count": 225,
     "metadata": {},
     "output_type": "execute_result"
    }
   ],
   "source": [
    "df_state_abbr = pd.read_csv('states-abbr.csv')\n",
    "df_state_abbr.head()"
   ]
  },
  {
   "cell_type": "code",
   "execution_count": 226,
   "metadata": {},
   "outputs": [
    {
     "data": {
      "text/html": [
       "<div>\n",
       "<style scoped>\n",
       "    .dataframe tbody tr th:only-of-type {\n",
       "        vertical-align: middle;\n",
       "    }\n",
       "\n",
       "    .dataframe tbody tr th {\n",
       "        vertical-align: top;\n",
       "    }\n",
       "\n",
       "    .dataframe thead th {\n",
       "        text-align: right;\n",
       "    }\n",
       "</style>\n",
       "<table border=\"1\" class=\"dataframe\">\n",
       "  <thead>\n",
       "    <tr style=\"text-align: right;\">\n",
       "      <th></th>\n",
       "      <th>state_name</th>\n",
       "      <th>federal_funding</th>\n",
       "      <th>enrollment_count</th>\n",
       "      <th>state</th>\n",
       "    </tr>\n",
       "  </thead>\n",
       "  <tbody>\n",
       "    <tr>\n",
       "      <th>0</th>\n",
       "      <td>Alabama</td>\n",
       "      <td>156825889.000</td>\n",
       "      <td>13438</td>\n",
       "      <td>AL</td>\n",
       "    </tr>\n",
       "    <tr>\n",
       "      <th>1</th>\n",
       "      <td>Alaska</td>\n",
       "      <td>20579547.000</td>\n",
       "      <td>1348</td>\n",
       "      <td>AK</td>\n",
       "    </tr>\n",
       "    <tr>\n",
       "      <th>2</th>\n",
       "      <td>Arizona</td>\n",
       "      <td>175213573.000</td>\n",
       "      <td>13054</td>\n",
       "      <td>AZ</td>\n",
       "    </tr>\n",
       "    <tr>\n",
       "      <th>3</th>\n",
       "      <td>Arkansas</td>\n",
       "      <td>106372981.000</td>\n",
       "      <td>9191</td>\n",
       "      <td>AR</td>\n",
       "    </tr>\n",
       "    <tr>\n",
       "      <th>4</th>\n",
       "      <td>California</td>\n",
       "      <td>1320500737.000</td>\n",
       "      <td>87819</td>\n",
       "      <td>CA</td>\n",
       "    </tr>\n",
       "  </tbody>\n",
       "</table>\n",
       "</div>"
      ],
      "text/plain": [
       "   state_name  federal_funding  enrollment_count state\n",
       "0     Alabama    156825889.000             13438    AL\n",
       "1      Alaska     20579547.000              1348    AK\n",
       "2     Arizona    175213573.000             13054    AZ\n",
       "3    Arkansas    106372981.000              9191    AR\n",
       "4  California   1320500737.000             87819    CA"
      ]
     },
     "execution_count": 226,
     "metadata": {},
     "output_type": "execute_result"
    }
   ],
   "source": [
    "df_headstart_fiscal = pd.read_html('https://eclkc.ohs.acf.hhs.gov/about-us/article/head-start-program-facts-fiscal-year-2021')\n",
    "df_headstart_fiscal =  df_headstart_fiscal[1].iloc[2:, :3]\n",
    "df_headstart_fiscal.columns = ['state_name', 'federal_funding', 'enrollment_count', ]\n",
    "df_headstart_fiscal = pd.merge(df_headstart_fiscal, df_state_abbr, left_on='state_name', right_on='State', how='left').drop('State', axis=1)\n",
    "df_headstart_fiscal.columns = ['state_name', 'federal_funding', 'enrollment_count', 'state' ]\n",
    "df_headstart_fiscal.federal_funding = df_headstart_fiscal.federal_funding.map(lambda s: s.replace('$', '').replace(',', '')).astype(float)\n",
    "df_headstart_fiscal.enrollment_count = df_headstart_fiscal.enrollment_count.astype(int)\n",
    "df_headstart_fiscal = df_headstart_fiscal[df_headstart_fiscal.state != 'US']\n",
    "df_headstart_fiscal.head()"
   ]
  },
  {
   "cell_type": "code",
   "execution_count": 227,
   "metadata": {},
   "outputs": [
    {
     "data": {
      "text/html": [
       "<div>\n",
       "<style scoped>\n",
       "    .dataframe tbody tr th:only-of-type {\n",
       "        vertical-align: middle;\n",
       "    }\n",
       "\n",
       "    .dataframe tbody tr th {\n",
       "        vertical-align: top;\n",
       "    }\n",
       "\n",
       "    .dataframe thead th {\n",
       "        text-align: right;\n",
       "    }\n",
       "</style>\n",
       "<table border=\"1\" class=\"dataframe\">\n",
       "  <thead>\n",
       "    <tr style=\"text-align: right;\">\n",
       "      <th></th>\n",
       "      <th>state_name</th>\n",
       "      <th>federal_funding</th>\n",
       "      <th>enrollment_count</th>\n",
       "      <th>state</th>\n",
       "      <th>rgdp</th>\n",
       "      <th>personal_income</th>\n",
       "    </tr>\n",
       "  </thead>\n",
       "  <tbody>\n",
       "    <tr>\n",
       "      <th>0</th>\n",
       "      <td>Alaska</td>\n",
       "      <td>20579547.000</td>\n",
       "      <td>1348</td>\n",
       "      <td>AK</td>\n",
       "      <td>50315.100</td>\n",
       "      <td>50349.700</td>\n",
       "    </tr>\n",
       "    <tr>\n",
       "      <th>1</th>\n",
       "      <td>Alabama</td>\n",
       "      <td>156825889.000</td>\n",
       "      <td>13438</td>\n",
       "      <td>AL</td>\n",
       "      <td>235807.300</td>\n",
       "      <td>258362.200</td>\n",
       "    </tr>\n",
       "    <tr>\n",
       "      <th>2</th>\n",
       "      <td>Arkansas</td>\n",
       "      <td>106372981.000</td>\n",
       "      <td>9191</td>\n",
       "      <td>AR</td>\n",
       "      <td>137355.500</td>\n",
       "      <td>160254.200</td>\n",
       "    </tr>\n",
       "    <tr>\n",
       "      <th>3</th>\n",
       "      <td>Arizona</td>\n",
       "      <td>175213573.000</td>\n",
       "      <td>13054</td>\n",
       "      <td>AZ</td>\n",
       "      <td>403474.200</td>\n",
       "      <td>430083.500</td>\n",
       "    </tr>\n",
       "    <tr>\n",
       "      <th>4</th>\n",
       "      <td>California</td>\n",
       "      <td>1320500737.000</td>\n",
       "      <td>87819</td>\n",
       "      <td>CA</td>\n",
       "      <td>3167460.800</td>\n",
       "      <td>3006647.300</td>\n",
       "    </tr>\n",
       "  </tbody>\n",
       "</table>\n",
       "</div>"
      ],
      "text/plain": [
       "   state_name  federal_funding  enrollment_count state        rgdp  \\\n",
       "0      Alaska     20579547.000              1348    AK   50315.100   \n",
       "1     Alabama    156825889.000             13438    AL  235807.300   \n",
       "2    Arkansas    106372981.000              9191    AR  137355.500   \n",
       "3     Arizona    175213573.000             13054    AZ  403474.200   \n",
       "4  California   1320500737.000             87819    CA 3167460.800   \n",
       "\n",
       "   personal_income  \n",
       "0        50349.700  \n",
       "1       258362.200  \n",
       "2       160254.200  \n",
       "3       430083.500  \n",
       "4      3006647.300  "
      ]
     },
     "execution_count": 227,
     "metadata": {},
     "output_type": "execute_result"
    }
   ],
   "source": [
    "import os\n",
    "\n",
    "tar_dir = './SASUMMARY'\n",
    "file_state_pairs = os.listdir(tar_dir)\n",
    "\n",
    "file_state_pairs = [(file, file[10:12]) for file in file_state_pairs if os.path.isfile(os.path.join(tar_dir, file)) and file.__contains__('1998_2022') and not file.__contains__('ALL_AREAS')]\n",
    "\n",
    "df_state_economic = pd.DataFrame(columns=['state', 'rgdp', 'personal_income'])\n",
    "\n",
    "for file, state in file_state_pairs:\n",
    "    df_temp = pd.read_csv(os.path.join(tar_dir, file))\n",
    "    rgdp = df_temp.iloc[0, 32]\n",
    "    personal_income = df_temp.iloc[4, 32]\n",
    "    df_state_economic.loc[len(df_state_economic)] = [state, rgdp, personal_income]\n",
    "\n",
    "df_state_economic = df_state_economic[df_state_economic.state != 'US']\n",
    "\n",
    "\n",
    "df_headstart_fiscal = pd.merge(df_headstart_fiscal, df_state_economic, on='state', how='right')\n",
    "df_headstart_fiscal.personal_income = df_headstart_fiscal.personal_income.astype(float)\n",
    "df_headstart_fiscal.rgdp = df_headstart_fiscal.rgdp.astype(float)\n",
    "df_headstart_fiscal.head()"
   ]
  },
  {
   "cell_type": "code",
   "execution_count": 228,
   "metadata": {},
   "outputs": [
    {
     "data": {
      "text/html": [
       "<div>\n",
       "<style scoped>\n",
       "    .dataframe tbody tr th:only-of-type {\n",
       "        vertical-align: middle;\n",
       "    }\n",
       "\n",
       "    .dataframe tbody tr th {\n",
       "        vertical-align: top;\n",
       "    }\n",
       "\n",
       "    .dataframe thead th {\n",
       "        text-align: right;\n",
       "    }\n",
       "</style>\n",
       "<table border=\"1\" class=\"dataframe\">\n",
       "  <thead>\n",
       "    <tr style=\"text-align: right;\">\n",
       "      <th></th>\n",
       "      <th>federal_funding</th>\n",
       "      <th>enrollment_count</th>\n",
       "      <th>rgdp</th>\n",
       "      <th>personal_income</th>\n",
       "    </tr>\n",
       "  </thead>\n",
       "  <tbody>\n",
       "    <tr>\n",
       "      <th>federal_funding</th>\n",
       "      <td>1.000</td>\n",
       "      <td>0.980</td>\n",
       "      <td>0.969</td>\n",
       "      <td>0.966</td>\n",
       "    </tr>\n",
       "    <tr>\n",
       "      <th>enrollment_count</th>\n",
       "      <td>0.980</td>\n",
       "      <td>1.000</td>\n",
       "      <td>0.946</td>\n",
       "      <td>0.952</td>\n",
       "    </tr>\n",
       "    <tr>\n",
       "      <th>rgdp</th>\n",
       "      <td>0.969</td>\n",
       "      <td>0.946</td>\n",
       "      <td>1.000</td>\n",
       "      <td>0.995</td>\n",
       "    </tr>\n",
       "    <tr>\n",
       "      <th>personal_income</th>\n",
       "      <td>0.966</td>\n",
       "      <td>0.952</td>\n",
       "      <td>0.995</td>\n",
       "      <td>1.000</td>\n",
       "    </tr>\n",
       "  </tbody>\n",
       "</table>\n",
       "</div>"
      ],
      "text/plain": [
       "                  federal_funding  enrollment_count  rgdp  personal_income\n",
       "federal_funding             1.000             0.980 0.969            0.966\n",
       "enrollment_count            0.980             1.000 0.946            0.952\n",
       "rgdp                        0.969             0.946 1.000            0.995\n",
       "personal_income             0.966             0.952 0.995            1.000"
      ]
     },
     "execution_count": 228,
     "metadata": {},
     "output_type": "execute_result"
    }
   ],
   "source": [
    "df_headstart_fiscal.corr()"
   ]
  },
  {
   "cell_type": "code",
   "execution_count": 229,
   "metadata": {},
   "outputs": [
    {
     "data": {
      "text/plain": [
       "<AxesSubplot:>"
      ]
     },
     "execution_count": 229,
     "metadata": {},
     "output_type": "execute_result"
    },
    {
     "data": {
      "image/png": "[encoded data removed]",
      "text/plain": [
       "<Figure size 640x480 with 2 Axes>"
      ]
     },
     "metadata": {},
     "output_type": "display_data"
    }
   ],
   "source": [
    "sns.heatmap(df_headstart_fiscal.corr(), annot=True,)"
   ]
  },
  {
   "cell_type": "markdown",
   "metadata": {},
   "source": [
    "##### <b>Insight</b>\n",
    "- For effective funding, each state should receive funding in proportion to its personal income and the number of children in need of Head Start. The table demonstrates strong positive correlation between federal funding, local personal income, and local enrollment count, indicating a successful funding policy is enforced across the states."
   ]
  },
  {
   "cell_type": "markdown",
   "metadata": {},
   "source": [
    "#### <b>Metric: Fund per child</b>\n",
    "- Definition:  The total amount of head start program fund divided by the number of children enrolled in the head start centers within a state.\n",
    "- Usage: \n",
    "\n",
    "- - Shows the distribution of fiscal resource across the states. \n",
    "- - Identify states that are overfunded and underfunded."
   ]
  },
  {
   "cell_type": "code",
   "execution_count": 230,
   "metadata": {},
   "outputs": [
    {
     "data": {
      "text/html": [
       "<div>\n",
       "<style scoped>\n",
       "    .dataframe tbody tr th:only-of-type {\n",
       "        vertical-align: middle;\n",
       "    }\n",
       "\n",
       "    .dataframe tbody tr th {\n",
       "        vertical-align: top;\n",
       "    }\n",
       "\n",
       "    .dataframe thead th {\n",
       "        text-align: right;\n",
       "    }\n",
       "</style>\n",
       "<table border=\"1\" class=\"dataframe\">\n",
       "  <thead>\n",
       "    <tr style=\"text-align: right;\">\n",
       "      <th></th>\n",
       "      <th>state_name</th>\n",
       "      <th>federal_funding</th>\n",
       "      <th>enrollment_count</th>\n",
       "      <th>state</th>\n",
       "      <th>rgdp</th>\n",
       "      <th>personal_income</th>\n",
       "      <th>fund_per_child</th>\n",
       "    </tr>\n",
       "  </thead>\n",
       "  <tbody>\n",
       "    <tr>\n",
       "      <th>37</th>\n",
       "      <td>Oregon</td>\n",
       "      <td>105339943.000</td>\n",
       "      <td>12899</td>\n",
       "      <td>OR</td>\n",
       "      <td>254708.400</td>\n",
       "      <td>264173.800</td>\n",
       "      <td>8166.520</td>\n",
       "    </tr>\n",
       "    <tr>\n",
       "      <th>49</th>\n",
       "      <td>West Virginia</td>\n",
       "      <td>75200678.000</td>\n",
       "      <td>7824</td>\n",
       "      <td>WV</td>\n",
       "      <td>76525.500</td>\n",
       "      <td>88744.900</td>\n",
       "      <td>9611.539</td>\n",
       "    </tr>\n",
       "    <tr>\n",
       "      <th>38</th>\n",
       "      <td>Pennsylvania</td>\n",
       "      <td>355878475.000</td>\n",
       "      <td>35372</td>\n",
       "      <td>PA</td>\n",
       "      <td>772335.900</td>\n",
       "      <td>836778.300</td>\n",
       "      <td>10061.022</td>\n",
       "    </tr>\n",
       "    <tr>\n",
       "      <th>18</th>\n",
       "      <td>Louisiana</td>\n",
       "      <td>209932116.000</td>\n",
       "      <td>20165</td>\n",
       "      <td>LA</td>\n",
       "      <td>231262.300</td>\n",
       "      <td>250170.600</td>\n",
       "      <td>10410.717</td>\n",
       "    </tr>\n",
       "    <tr>\n",
       "      <th>25</th>\n",
       "      <td>Mississippi</td>\n",
       "      <td>225587275.000</td>\n",
       "      <td>21622</td>\n",
       "      <td>MS</td>\n",
       "      <td>114152.900</td>\n",
       "      <td>136330.200</td>\n",
       "      <td>10433.229</td>\n",
       "    </tr>\n",
       "  </tbody>\n",
       "</table>\n",
       "</div>"
      ],
      "text/plain": [
       "       state_name  federal_funding  enrollment_count state       rgdp  \\\n",
       "37         Oregon    105339943.000             12899    OR 254708.400   \n",
       "49  West Virginia     75200678.000              7824    WV  76525.500   \n",
       "38   Pennsylvania    355878475.000             35372    PA 772335.900   \n",
       "18      Louisiana    209932116.000             20165    LA 231262.300   \n",
       "25    Mississippi    225587275.000             21622    MS 114152.900   \n",
       "\n",
       "    personal_income  fund_per_child  \n",
       "37       264173.800        8166.520  \n",
       "49        88744.900        9611.539  \n",
       "38       836778.300       10061.022  \n",
       "18       250170.600       10410.717  \n",
       "25       136330.200       10433.229  "
      ]
     },
     "execution_count": 230,
     "metadata": {},
     "output_type": "execute_result"
    }
   ],
   "source": [
    "df_headstart_fiscal['fund_per_child'] = df_headstart_fiscal.federal_funding / df_headstart_fiscal.enrollment_count.astype(float)\n",
    "df_headstart_fiscal.sort_values('fund_per_child', ascending=True).head()"
   ]
  },
  {
   "cell_type": "markdown",
   "metadata": {},
   "source": [
    "#### <b>Metric: Funding Index</b>\n",
    "- Definition: The amount of Head Start funding divided by local personal income, then devided by the number of enrolled children.\n",
    "- Usage: \n",
    "- - Offset the impact of local price level.\n",
    "- - Measure the intensity of funding as shared by each child. (Measuring how strong the funding is when applied to an individual child)"
   ]
  },
  {
   "cell_type": "code",
   "execution_count": 231,
   "metadata": {},
   "outputs": [
    {
     "data": {
      "text/html": [
       "<div>\n",
       "<style scoped>\n",
       "    .dataframe tbody tr th:only-of-type {\n",
       "        vertical-align: middle;\n",
       "    }\n",
       "\n",
       "    .dataframe tbody tr th {\n",
       "        vertical-align: top;\n",
       "    }\n",
       "\n",
       "    .dataframe thead th {\n",
       "        text-align: right;\n",
       "    }\n",
       "</style>\n",
       "<table border=\"1\" class=\"dataframe\">\n",
       "  <thead>\n",
       "    <tr style=\"text-align: right;\">\n",
       "      <th></th>\n",
       "      <th>state_name</th>\n",
       "      <th>federal_funding</th>\n",
       "      <th>enrollment_count</th>\n",
       "      <th>state</th>\n",
       "      <th>rgdp</th>\n",
       "      <th>personal_income</th>\n",
       "      <th>fund_per_child</th>\n",
       "      <th>funding_index</th>\n",
       "    </tr>\n",
       "  </thead>\n",
       "  <tbody>\n",
       "    <tr>\n",
       "      <th>4</th>\n",
       "      <td>California</td>\n",
       "      <td>1320500737.000</td>\n",
       "      <td>87819</td>\n",
       "      <td>CA</td>\n",
       "      <td>3167460.800</td>\n",
       "      <td>3006647.300</td>\n",
       "      <td>15036.618</td>\n",
       "      <td>0.005</td>\n",
       "    </tr>\n",
       "    <tr>\n",
       "      <th>43</th>\n",
       "      <td>Texas</td>\n",
       "      <td>719676508.000</td>\n",
       "      <td>68467</td>\n",
       "      <td>TX</td>\n",
       "      <td>1924007.500</td>\n",
       "      <td>1879419.600</td>\n",
       "      <td>10511.290</td>\n",
       "      <td>0.006</td>\n",
       "    </tr>\n",
       "    <tr>\n",
       "      <th>9</th>\n",
       "      <td>Florida</td>\n",
       "      <td>442454135.000</td>\n",
       "      <td>40319</td>\n",
       "      <td>FL</td>\n",
       "      <td>1218430.200</td>\n",
       "      <td>1441598.900</td>\n",
       "      <td>10973.837</td>\n",
       "      <td>0.008</td>\n",
       "    </tr>\n",
       "    <tr>\n",
       "      <th>34</th>\n",
       "      <td>New York</td>\n",
       "      <td>626590038.000</td>\n",
       "      <td>46051</td>\n",
       "      <td>NY</td>\n",
       "      <td>1763524.600</td>\n",
       "      <td>1483802.300</td>\n",
       "      <td>13606.437</td>\n",
       "      <td>0.009</td>\n",
       "    </tr>\n",
       "    <tr>\n",
       "      <th>38</th>\n",
       "      <td>Pennsylvania</td>\n",
       "      <td>355878475.000</td>\n",
       "      <td>35372</td>\n",
       "      <td>PA</td>\n",
       "      <td>772335.900</td>\n",
       "      <td>836778.300</td>\n",
       "      <td>10061.022</td>\n",
       "      <td>0.012</td>\n",
       "    </tr>\n",
       "    <tr>\n",
       "      <th>14</th>\n",
       "      <td>Illinois</td>\n",
       "      <td>410844005.000</td>\n",
       "      <td>29117</td>\n",
       "      <td>IL</td>\n",
       "      <td>864170.900</td>\n",
       "      <td>851243.100</td>\n",
       "      <td>14110.108</td>\n",
       "      <td>0.017</td>\n",
       "    </tr>\n",
       "    <tr>\n",
       "      <th>35</th>\n",
       "      <td>Ohio</td>\n",
       "      <td>383581783.000</td>\n",
       "      <td>33303</td>\n",
       "      <td>OH</td>\n",
       "      <td>689681.300</td>\n",
       "      <td>679233.000</td>\n",
       "      <td>11517.935</td>\n",
       "      <td>0.017</td>\n",
       "    </tr>\n",
       "    <tr>\n",
       "      <th>31</th>\n",
       "      <td>New Jersey</td>\n",
       "      <td>193901043.000</td>\n",
       "      <td>15267</td>\n",
       "      <td>NJ</td>\n",
       "      <td>646731.300</td>\n",
       "      <td>714990.200</td>\n",
       "      <td>12700.664</td>\n",
       "      <td>0.018</td>\n",
       "    </tr>\n",
       "    <tr>\n",
       "      <th>10</th>\n",
       "      <td>Georgia</td>\n",
       "      <td>258763401.000</td>\n",
       "      <td>23259</td>\n",
       "      <td>GA</td>\n",
       "      <td>655827.300</td>\n",
       "      <td>617553.000</td>\n",
       "      <td>11125.302</td>\n",
       "      <td>0.018</td>\n",
       "    </tr>\n",
       "    <tr>\n",
       "      <th>45</th>\n",
       "      <td>Virginia</td>\n",
       "      <td>151962333.000</td>\n",
       "      <td>13886</td>\n",
       "      <td>VA</td>\n",
       "      <td>576964.300</td>\n",
       "      <td>599042.000</td>\n",
       "      <td>10943.564</td>\n",
       "      <td>0.018</td>\n",
       "    </tr>\n",
       "  </tbody>\n",
       "</table>\n",
       "</div>"
      ],
      "text/plain": [
       "      state_name  federal_funding  enrollment_count state        rgdp  \\\n",
       "4     California   1320500737.000             87819    CA 3167460.800   \n",
       "43         Texas    719676508.000             68467    TX 1924007.500   \n",
       "9        Florida    442454135.000             40319    FL 1218430.200   \n",
       "34      New York    626590038.000             46051    NY 1763524.600   \n",
       "38  Pennsylvania    355878475.000             35372    PA  772335.900   \n",
       "14      Illinois    410844005.000             29117    IL  864170.900   \n",
       "35          Ohio    383581783.000             33303    OH  689681.300   \n",
       "31    New Jersey    193901043.000             15267    NJ  646731.300   \n",
       "10       Georgia    258763401.000             23259    GA  655827.300   \n",
       "45      Virginia    151962333.000             13886    VA  576964.300   \n",
       "\n",
       "    personal_income  fund_per_child  funding_index  \n",
       "4       3006647.300       15036.618          0.005  \n",
       "43      1879419.600       10511.290          0.006  \n",
       "9       1441598.900       10973.837          0.008  \n",
       "34      1483802.300       13606.437          0.009  \n",
       "38       836778.300       10061.022          0.012  \n",
       "14       851243.100       14110.108          0.017  \n",
       "35       679233.000       11517.935          0.017  \n",
       "31       714990.200       12700.664          0.018  \n",
       "10       617553.000       11125.302          0.018  \n",
       "45       599042.000       10943.564          0.018  "
      ]
     },
     "execution_count": 231,
     "metadata": {},
     "output_type": "execute_result"
    }
   ],
   "source": [
    "df_headstart_fiscal['funding_index'] = df_headstart_fiscal.federal_funding / df_headstart_fiscal.personal_income / df_headstart_fiscal.enrollment_count\n",
    "df_headstart_fiscal.sort_values('funding_index', ascending=True).head(10)"
   ]
  },
  {
   "cell_type": "code",
   "execution_count": 232,
   "metadata": {},
   "outputs": [
    {
     "data": {
      "text/plain": [
       "count   51.000\n",
       "mean     0.085\n",
       "std      0.093\n",
       "min      0.005\n",
       "25%      0.025\n",
       "50%      0.044\n",
       "75%      0.115\n",
       "max      0.421\n",
       "Name: funding_index, dtype: float64"
      ]
     },
     "execution_count": 232,
     "metadata": {},
     "output_type": "execute_result"
    }
   ],
   "source": [
    "df_headstart_fiscal.funding_index.describe()"
   ]
  },
  {
   "cell_type": "code",
   "execution_count": 233,
   "metadata": {},
   "outputs": [
    {
     "data": {
      "text/plain": [
       "<AxesSubplot:>"
      ]
     },
     "execution_count": 233,
     "metadata": {},
     "output_type": "execute_result"
    },
    {
     "data": {
      "image/png": "[encoded data removed]",
      "text/plain": [
       "<Figure size 640x480 with 1 Axes>"
      ]
     },
     "metadata": {},
     "output_type": "display_data"
    }
   ],
   "source": [
    "df_headstart_fiscal.funding_index.plot.box()"
   ]
  },
  {
   "cell_type": "markdown",
   "metadata": {},
   "source": [
    "##### <b>Insight</b>\n",
    "- Although the funding policy has taken into account regional economic status and enrollment, the child funding index shows that there exists inequality regarding the funding policy. In some states, the effect of funding proves stronger.\n",
    "- Policy makers may review their existing funding strategy and pay more attention to the states where the funding index is low."
   ]
  },
  {
   "cell_type": "code",
   "execution_count": 234,
   "metadata": {},
   "outputs": [
    {
     "data": {
      "text/html": [
       "<div>\n",
       "<style scoped>\n",
       "    .dataframe tbody tr th:only-of-type {\n",
       "        vertical-align: middle;\n",
       "    }\n",
       "\n",
       "    .dataframe tbody tr th {\n",
       "        vertical-align: top;\n",
       "    }\n",
       "\n",
       "    .dataframe thead th {\n",
       "        text-align: right;\n",
       "    }\n",
       "</style>\n",
       "<table border=\"1\" class=\"dataframe\">\n",
       "  <thead>\n",
       "    <tr style=\"text-align: right;\">\n",
       "      <th></th>\n",
       "      <th>addressLineOne</th>\n",
       "      <th>addressLineTwo</th>\n",
       "      <th>cid</th>\n",
       "      <th>grantNumber</th>\n",
       "      <th>delegateNumber</th>\n",
       "      <th>type</th>\n",
       "      <th>longitude</th>\n",
       "      <th>latitude</th>\n",
       "      <th>name</th>\n",
       "      <th>city</th>\n",
       "      <th>...</th>\n",
       "      <th>programAddressLineOne</th>\n",
       "      <th>programAddressLineTwo</th>\n",
       "      <th>programName</th>\n",
       "      <th>programCity</th>\n",
       "      <th>programState</th>\n",
       "      <th>programZipFive</th>\n",
       "      <th>programZipFour</th>\n",
       "      <th>programPhone</th>\n",
       "      <th>programRegistrationPhone</th>\n",
       "      <th>programIdentifier</th>\n",
       "    </tr>\n",
       "  </thead>\n",
       "  <tbody>\n",
       "    <tr>\n",
       "      <th>0</th>\n",
       "      <td>11500 Joslin St</td>\n",
       "      <td>NaN</td>\n",
       "      <td>100000</td>\n",
       "      <td>09CH011157</td>\n",
       "      <td>2</td>\n",
       "      <td>1</td>\n",
       "      <td>-118.089</td>\n",
       "      <td>33.944</td>\n",
       "      <td>Lakeview (Plaza)</td>\n",
       "      <td>Santa Fe Springs</td>\n",
       "      <td>...</td>\n",
       "      <td>13300 Crossroads Pkwy N</td>\n",
       "      <td>Ste 440</td>\n",
       "      <td>Plaza de la Raza Child Development Services Inc.</td>\n",
       "      <td>City Of Industry</td>\n",
       "      <td>CA</td>\n",
       "      <td>91746.000</td>\n",
       "      <td>3440</td>\n",
       "      <td>(562) 929-6320</td>\n",
       "      <td>(562)776-1301</td>\n",
       "      <td>los_angeles_county_office_of_education_ca</td>\n",
       "    </tr>\n",
       "    <tr>\n",
       "      <th>1</th>\n",
       "      <td>5036 North Huntington Drive</td>\n",
       "      <td>NaN</td>\n",
       "      <td>100001</td>\n",
       "      <td>09CH011157</td>\n",
       "      <td>2</td>\n",
       "      <td>1</td>\n",
       "      <td>-118.172</td>\n",
       "      <td>34.089</td>\n",
       "      <td>El Sereno (Plaza)</td>\n",
       "      <td>Los Angeles</td>\n",
       "      <td>...</td>\n",
       "      <td>13300 Crossroads Pkwy N</td>\n",
       "      <td>Ste 440</td>\n",
       "      <td>Plaza de la Raza Child Development Services Inc.</td>\n",
       "      <td>City Of Industry</td>\n",
       "      <td>CA</td>\n",
       "      <td>91746.000</td>\n",
       "      <td>3440</td>\n",
       "      <td>(323) 222-2786</td>\n",
       "      <td>(562)776-1301</td>\n",
       "      <td>los_angeles_county_office_of_education_ca</td>\n",
       "    </tr>\n",
       "    <tr>\n",
       "      <th>2</th>\n",
       "      <td>2141 Workman St</td>\n",
       "      <td>NaN</td>\n",
       "      <td>100002</td>\n",
       "      <td>09CH011157</td>\n",
       "      <td>2</td>\n",
       "      <td>1</td>\n",
       "      <td>-118.214</td>\n",
       "      <td>34.071</td>\n",
       "      <td>Cedillo (Plaza)</td>\n",
       "      <td>Los Angeles</td>\n",
       "      <td>...</td>\n",
       "      <td>13300 Crossroads Pkwy N</td>\n",
       "      <td>Ste 440</td>\n",
       "      <td>Plaza de la Raza Child Development Services Inc.</td>\n",
       "      <td>City Of Industry</td>\n",
       "      <td>CA</td>\n",
       "      <td>91746.000</td>\n",
       "      <td>3440</td>\n",
       "      <td>(323) 225-9792</td>\n",
       "      <td>(562)776-1301</td>\n",
       "      <td>los_angeles_county_office_of_education_ca</td>\n",
       "    </tr>\n",
       "    <tr>\n",
       "      <th>3</th>\n",
       "      <td>12322 Pellissier Rd</td>\n",
       "      <td>NaN</td>\n",
       "      <td>100003</td>\n",
       "      <td>09CH011157</td>\n",
       "      <td>2</td>\n",
       "      <td>1</td>\n",
       "      <td>-118.032</td>\n",
       "      <td>34.034</td>\n",
       "      <td>Little Star (Plaza)</td>\n",
       "      <td>Whittier</td>\n",
       "      <td>...</td>\n",
       "      <td>13300 Crossroads Pkwy N</td>\n",
       "      <td>Ste 440</td>\n",
       "      <td>Plaza de la Raza Child Development Services Inc.</td>\n",
       "      <td>City Of Industry</td>\n",
       "      <td>CA</td>\n",
       "      <td>91746.000</td>\n",
       "      <td>3440</td>\n",
       "      <td>(562) 699-5655</td>\n",
       "      <td>(562)776-1301</td>\n",
       "      <td>los_angeles_county_office_of_education_ca</td>\n",
       "    </tr>\n",
       "    <tr>\n",
       "      <th>4</th>\n",
       "      <td>12830 Columbia Way</td>\n",
       "      <td>NaN</td>\n",
       "      <td>100004</td>\n",
       "      <td>09CH011157</td>\n",
       "      <td>2</td>\n",
       "      <td>1</td>\n",
       "      <td>-118.134</td>\n",
       "      <td>33.914</td>\n",
       "      <td>Columbia (Plaza)</td>\n",
       "      <td>Downey</td>\n",
       "      <td>...</td>\n",
       "      <td>13300 Crossroads Pkwy N</td>\n",
       "      <td>Ste 440</td>\n",
       "      <td>Plaza de la Raza Child Development Services Inc.</td>\n",
       "      <td>City Of Industry</td>\n",
       "      <td>CA</td>\n",
       "      <td>91746.000</td>\n",
       "      <td>3440</td>\n",
       "      <td>(562) 803-6229</td>\n",
       "      <td>(562)776-1301</td>\n",
       "      <td>los_angeles_county_office_of_education_ca</td>\n",
       "    </tr>\n",
       "  </tbody>\n",
       "</table>\n",
       "<p>5 rows × 27 columns</p>\n",
       "</div>"
      ],
      "text/plain": [
       "                addressLineOne addressLineTwo     cid grantNumber  \\\n",
       "0              11500 Joslin St            NaN  100000  09CH011157   \n",
       "1  5036 North Huntington Drive            NaN  100001  09CH011157   \n",
       "2              2141 Workman St            NaN  100002  09CH011157   \n",
       "3          12322 Pellissier Rd            NaN  100003  09CH011157   \n",
       "4           12830 Columbia Way            NaN  100004  09CH011157   \n",
       "\n",
       "   delegateNumber  type  longitude  latitude                 name  \\\n",
       "0               2     1   -118.089    33.944     Lakeview (Plaza)   \n",
       "1               2     1   -118.172    34.089    El Sereno (Plaza)   \n",
       "2               2     1   -118.214    34.071      Cedillo (Plaza)   \n",
       "3               2     1   -118.032    34.034  Little Star (Plaza)   \n",
       "4               2     1   -118.134    33.914     Columbia (Plaza)   \n",
       "\n",
       "               city  ...    programAddressLineOne  programAddressLineTwo  \\\n",
       "0  Santa Fe Springs  ...  13300 Crossroads Pkwy N                Ste 440   \n",
       "1       Los Angeles  ...  13300 Crossroads Pkwy N                Ste 440   \n",
       "2       Los Angeles  ...  13300 Crossroads Pkwy N                Ste 440   \n",
       "3          Whittier  ...  13300 Crossroads Pkwy N                Ste 440   \n",
       "4            Downey  ...  13300 Crossroads Pkwy N                Ste 440   \n",
       "\n",
       "                                        programName       programCity  \\\n",
       "0  Plaza de la Raza Child Development Services Inc.  City Of Industry   \n",
       "1  Plaza de la Raza Child Development Services Inc.  City Of Industry   \n",
       "2  Plaza de la Raza Child Development Services Inc.  City Of Industry   \n",
       "3  Plaza de la Raza Child Development Services Inc.  City Of Industry   \n",
       "4  Plaza de la Raza Child Development Services Inc.  City Of Industry   \n",
       "\n",
       "   programState programZipFive programZipFour    programPhone  \\\n",
       "0            CA      91746.000           3440  (562) 929-6320   \n",
       "1            CA      91746.000           3440  (323) 222-2786   \n",
       "2            CA      91746.000           3440  (323) 225-9792   \n",
       "3            CA      91746.000           3440  (562) 699-5655   \n",
       "4            CA      91746.000           3440  (562) 803-6229   \n",
       "\n",
       "  programRegistrationPhone                          programIdentifier  \n",
       "0            (562)776-1301  los_angeles_county_office_of_education_ca  \n",
       "1            (562)776-1301  los_angeles_county_office_of_education_ca  \n",
       "2            (562)776-1301  los_angeles_county_office_of_education_ca  \n",
       "3            (562)776-1301  los_angeles_county_office_of_education_ca  \n",
       "4            (562)776-1301  los_angeles_county_office_of_education_ca  \n",
       "\n",
       "[5 rows x 27 columns]"
      ]
     },
     "execution_count": 234,
     "metadata": {},
     "output_type": "execute_result"
    }
   ],
   "source": [
    "df_headstart_center = pd.read_csv('ALL_all.csv',)\n",
    "df_headstart_center.head()"
   ]
  },
  {
   "cell_type": "code",
   "execution_count": 235,
   "metadata": {},
   "outputs": [
    {
     "data": {
      "text/plain": [
       "Index(['addressLineOne', 'addressLineTwo', 'cid', 'grantNumber',\n",
       "       'delegateNumber', 'type', 'longitude', 'latitude', 'name', 'city',\n",
       "       'state', 'zipFive', 'zipFour', 'phone', 'googleMapZoomLevel', 'county',\n",
       "       'programCounty', 'programAddressLineOne', 'programAddressLineTwo',\n",
       "       'programName', 'programCity', 'programState', 'programZipFive',\n",
       "       'programZipFour', 'programPhone', 'programRegistrationPhone',\n",
       "       'programIdentifier'],\n",
       "      dtype='object')"
      ]
     },
     "execution_count": 235,
     "metadata": {},
     "output_type": "execute_result"
    }
   ],
   "source": [
    "df_headstart_center.columns"
   ]
  },
  {
   "cell_type": "code",
   "execution_count": 236,
   "metadata": {},
   "outputs": [],
   "source": [
    "# to perform county level analysis, we need to combine state and county so as to make it unique\n",
    "df_headstart_center['state_county'] = df_headstart_center['state'] + \" \" + df_headstart_center['county']"
   ]
  },
  {
   "cell_type": "code",
   "execution_count": 237,
   "metadata": {},
   "outputs": [
    {
     "data": {
      "text/plain": [
       "((21334, 28), 21334, 2895)"
      ]
     },
     "execution_count": 237,
     "metadata": {},
     "output_type": "execute_result"
    }
   ],
   "source": [
    "df_headstart_center.shape, df_headstart_center.cid.nunique(), df_headstart_center.state_county.nunique()"
   ]
  },
  {
   "cell_type": "code",
   "execution_count": 238,
   "metadata": {},
   "outputs": [
    {
     "data": {
      "text/html": [
       "<div>\n",
       "<style scoped>\n",
       "    .dataframe tbody tr th:only-of-type {\n",
       "        vertical-align: middle;\n",
       "    }\n",
       "\n",
       "    .dataframe tbody tr th {\n",
       "        vertical-align: top;\n",
       "    }\n",
       "\n",
       "    .dataframe thead th {\n",
       "        text-align: right;\n",
       "    }\n",
       "</style>\n",
       "<table border=\"1\" class=\"dataframe\">\n",
       "  <thead>\n",
       "    <tr style=\"text-align: right;\">\n",
       "      <th></th>\n",
       "      <th>Table with column headers in rows 3 and 4</th>\n",
       "      <th>Unnamed: 1</th>\n",
       "      <th>Unnamed: 2</th>\n",
       "      <th>Unnamed: 3</th>\n",
       "      <th>Unnamed: 4</th>\n",
       "      <th>Unnamed: 5</th>\n",
       "      <th>Unnamed: 6</th>\n",
       "      <th>Unnamed: 7</th>\n",
       "      <th>Unnamed: 8</th>\n",
       "      <th>Unnamed: 9</th>\n",
       "      <th>...</th>\n",
       "      <th>Unnamed: 21</th>\n",
       "      <th>Unnamed: 22</th>\n",
       "      <th>Unnamed: 23</th>\n",
       "      <th>Unnamed: 24</th>\n",
       "      <th>Unnamed: 25</th>\n",
       "      <th>Unnamed: 26</th>\n",
       "      <th>Unnamed: 27</th>\n",
       "      <th>Unnamed: 28</th>\n",
       "      <th>Unnamed: 29</th>\n",
       "      <th>Unnamed: 30</th>\n",
       "    </tr>\n",
       "  </thead>\n",
       "  <tbody>\n",
       "    <tr>\n",
       "      <th>2</th>\n",
       "      <td>State FIPS Code</td>\n",
       "      <td>County FIPS Code</td>\n",
       "      <td>Postal Code</td>\n",
       "      <td>Name</td>\n",
       "      <td>Poverty Estimate, All Ages</td>\n",
       "      <td>90% CI Lower Bound</td>\n",
       "      <td>90% CI Upper Bound</td>\n",
       "      <td>Poverty Percent, All Ages</td>\n",
       "      <td>90% CI Lower Bound</td>\n",
       "      <td>90% CI Upper Bound</td>\n",
       "      <td>...</td>\n",
       "      <td>90% CI Upper Bound</td>\n",
       "      <td>Median Household Income</td>\n",
       "      <td>90% CI Lower Bound</td>\n",
       "      <td>90% CI Upper Bound</td>\n",
       "      <td>Poverty Estimate, Age 0-4</td>\n",
       "      <td>90% CI Lower Bound</td>\n",
       "      <td>90% CI Upper Bound</td>\n",
       "      <td>Poverty Percent, Age 0-4</td>\n",
       "      <td>90% CI Lower Bound</td>\n",
       "      <td>90% CI Upper Bound</td>\n",
       "    </tr>\n",
       "    <tr>\n",
       "      <th>3</th>\n",
       "      <td>00</td>\n",
       "      <td>000</td>\n",
       "      <td>US</td>\n",
       "      <td>United States</td>\n",
       "      <td>41393176</td>\n",
       "      <td>41149497</td>\n",
       "      <td>41636855</td>\n",
       "      <td>12.800</td>\n",
       "      <td>12.700</td>\n",
       "      <td>12.900</td>\n",
       "      <td>...</td>\n",
       "      <td>16.300</td>\n",
       "      <td>69717</td>\n",
       "      <td>69583</td>\n",
       "      <td>69851</td>\n",
       "      <td>3349149</td>\n",
       "      <td>3299669</td>\n",
       "      <td>3398629</td>\n",
       "      <td>18.300</td>\n",
       "      <td>18</td>\n",
       "      <td>18.600</td>\n",
       "    </tr>\n",
       "    <tr>\n",
       "      <th>4</th>\n",
       "      <td>01</td>\n",
       "      <td>000</td>\n",
       "      <td>AL</td>\n",
       "      <td>Alabama</td>\n",
       "      <td>800848</td>\n",
       "      <td>782169</td>\n",
       "      <td>819527</td>\n",
       "      <td>16.300</td>\n",
       "      <td>15.900</td>\n",
       "      <td>16.700</td>\n",
       "      <td>...</td>\n",
       "      <td>22.500</td>\n",
       "      <td>53990</td>\n",
       "      <td>53218</td>\n",
       "      <td>54762</td>\n",
       "      <td>71220</td>\n",
       "      <td>66888</td>\n",
       "      <td>75552</td>\n",
       "      <td>25.100</td>\n",
       "      <td>23.600</td>\n",
       "      <td>26.600</td>\n",
       "    </tr>\n",
       "    <tr>\n",
       "      <th>5</th>\n",
       "      <td>01</td>\n",
       "      <td>001</td>\n",
       "      <td>AL</td>\n",
       "      <td>Autauga County</td>\n",
       "      <td>6296</td>\n",
       "      <td>4772</td>\n",
       "      <td>7820</td>\n",
       "      <td>10.700</td>\n",
       "      <td>8.100</td>\n",
       "      <td>13.300</td>\n",
       "      <td>...</td>\n",
       "      <td>20.400</td>\n",
       "      <td>66444</td>\n",
       "      <td>60061</td>\n",
       "      <td>72827</td>\n",
       "      <td>.</td>\n",
       "      <td>.</td>\n",
       "      <td>.</td>\n",
       "      <td>.</td>\n",
       "      <td>.</td>\n",
       "      <td>.</td>\n",
       "    </tr>\n",
       "    <tr>\n",
       "      <th>6</th>\n",
       "      <td>01</td>\n",
       "      <td>003</td>\n",
       "      <td>AL</td>\n",
       "      <td>Baldwin County</td>\n",
       "      <td>25526</td>\n",
       "      <td>21599</td>\n",
       "      <td>29453</td>\n",
       "      <td>10.800</td>\n",
       "      <td>9.100</td>\n",
       "      <td>12.500</td>\n",
       "      <td>...</td>\n",
       "      <td>18.500</td>\n",
       "      <td>65658</td>\n",
       "      <td>60723</td>\n",
       "      <td>70593</td>\n",
       "      <td>.</td>\n",
       "      <td>.</td>\n",
       "      <td>.</td>\n",
       "      <td>.</td>\n",
       "      <td>.</td>\n",
       "      <td>.</td>\n",
       "    </tr>\n",
       "  </tbody>\n",
       "</table>\n",
       "<p>5 rows × 31 columns</p>\n",
       "</div>"
      ],
      "text/plain": [
       "  Table with column headers in rows 3 and 4        Unnamed: 1   Unnamed: 2  \\\n",
       "2                           State FIPS Code  County FIPS Code  Postal Code   \n",
       "3                                        00               000           US   \n",
       "4                                        01               000           AL   \n",
       "5                                        01               001           AL   \n",
       "6                                        01               003           AL   \n",
       "\n",
       "       Unnamed: 3                  Unnamed: 4          Unnamed: 5  \\\n",
       "2            Name  Poverty Estimate, All Ages  90% CI Lower Bound   \n",
       "3   United States                    41393176            41149497   \n",
       "4         Alabama                      800848              782169   \n",
       "5  Autauga County                        6296                4772   \n",
       "6  Baldwin County                       25526               21599   \n",
       "\n",
       "           Unnamed: 6                 Unnamed: 7          Unnamed: 8  \\\n",
       "2  90% CI Upper Bound  Poverty Percent, All Ages  90% CI Lower Bound   \n",
       "3            41636855                     12.800              12.700   \n",
       "4              819527                     16.300              15.900   \n",
       "5                7820                     10.700               8.100   \n",
       "6               29453                     10.800               9.100   \n",
       "\n",
       "           Unnamed: 9  ...         Unnamed: 21              Unnamed: 22  \\\n",
       "2  90% CI Upper Bound  ...  90% CI Upper Bound  Median Household Income   \n",
       "3              12.900  ...              16.300                    69717   \n",
       "4              16.700  ...              22.500                    53990   \n",
       "5              13.300  ...              20.400                    66444   \n",
       "6              12.500  ...              18.500                    65658   \n",
       "\n",
       "          Unnamed: 23         Unnamed: 24                Unnamed: 25  \\\n",
       "2  90% CI Lower Bound  90% CI Upper Bound  Poverty Estimate, Age 0-4   \n",
       "3               69583               69851                    3349149   \n",
       "4               53218               54762                      71220   \n",
       "5               60061               72827                          .   \n",
       "6               60723               70593                          .   \n",
       "\n",
       "          Unnamed: 26         Unnamed: 27               Unnamed: 28  \\\n",
       "2  90% CI Lower Bound  90% CI Upper Bound  Poverty Percent, Age 0-4   \n",
       "3             3299669             3398629                    18.300   \n",
       "4               66888               75552                    25.100   \n",
       "5                   .                   .                         .   \n",
       "6                   .                   .                         .   \n",
       "\n",
       "          Unnamed: 29         Unnamed: 30  \n",
       "2  90% CI Lower Bound  90% CI Upper Bound  \n",
       "3                  18              18.600  \n",
       "4              23.600              26.600  \n",
       "5                   .                   .  \n",
       "6                   .                   .  \n",
       "\n",
       "[5 rows x 31 columns]"
      ]
     },
     "execution_count": 238,
     "metadata": {},
     "output_type": "execute_result"
    }
   ],
   "source": [
    "df_saipe = pd.read_excel('est21all.xls',).drop(index=[0, 1])\n",
    "df_saipe.head()"
   ]
  },
  {
   "cell_type": "code",
   "execution_count": 239,
   "metadata": {},
   "outputs": [
    {
     "data": {
      "text/html": [
       "<div>\n",
       "<style scoped>\n",
       "    .dataframe tbody tr th:only-of-type {\n",
       "        vertical-align: middle;\n",
       "    }\n",
       "\n",
       "    .dataframe tbody tr th {\n",
       "        vertical-align: top;\n",
       "    }\n",
       "\n",
       "    .dataframe thead th {\n",
       "        text-align: right;\n",
       "    }\n",
       "</style>\n",
       "<table border=\"1\" class=\"dataframe\">\n",
       "  <thead>\n",
       "    <tr style=\"text-align: right;\">\n",
       "      <th></th>\n",
       "      <th>Table with column headers in rows 3 and 4</th>\n",
       "      <th>Unnamed: 1</th>\n",
       "      <th>Unnamed: 2</th>\n",
       "      <th>Unnamed: 3</th>\n",
       "      <th>Unnamed: 4</th>\n",
       "      <th>Unnamed: 5</th>\n",
       "      <th>Unnamed: 6</th>\n",
       "      <th>Unnamed: 7</th>\n",
       "      <th>Unnamed: 8</th>\n",
       "      <th>Unnamed: 9</th>\n",
       "      <th>...</th>\n",
       "      <th>Unnamed: 21</th>\n",
       "      <th>Unnamed: 22</th>\n",
       "      <th>Unnamed: 23</th>\n",
       "      <th>Unnamed: 24</th>\n",
       "      <th>Unnamed: 25</th>\n",
       "      <th>Unnamed: 26</th>\n",
       "      <th>Unnamed: 27</th>\n",
       "      <th>Unnamed: 28</th>\n",
       "      <th>Unnamed: 29</th>\n",
       "      <th>Unnamed: 30</th>\n",
       "    </tr>\n",
       "  </thead>\n",
       "  <tbody>\n",
       "    <tr>\n",
       "      <th>2</th>\n",
       "      <td>State FIPS Code</td>\n",
       "      <td>County FIPS Code</td>\n",
       "      <td>Postal Code</td>\n",
       "      <td>Name</td>\n",
       "      <td>Poverty Estimate, All Ages</td>\n",
       "      <td>90% CI Lower Bound</td>\n",
       "      <td>90% CI Upper Bound</td>\n",
       "      <td>Poverty Percent, All Ages</td>\n",
       "      <td>90% CI Lower Bound</td>\n",
       "      <td>90% CI Upper Bound</td>\n",
       "      <td>...</td>\n",
       "      <td>90% CI Upper Bound</td>\n",
       "      <td>Median Household Income</td>\n",
       "      <td>90% CI Lower Bound</td>\n",
       "      <td>90% CI Upper Bound</td>\n",
       "      <td>Poverty Estimate, Age 0-4</td>\n",
       "      <td>90% CI Lower Bound</td>\n",
       "      <td>90% CI Upper Bound</td>\n",
       "      <td>Poverty Percent, Age 0-4</td>\n",
       "      <td>90% CI Lower Bound</td>\n",
       "      <td>90% CI Upper Bound</td>\n",
       "    </tr>\n",
       "    <tr>\n",
       "      <th>5</th>\n",
       "      <td>01</td>\n",
       "      <td>001</td>\n",
       "      <td>AL</td>\n",
       "      <td>Autauga County</td>\n",
       "      <td>6296</td>\n",
       "      <td>4772</td>\n",
       "      <td>7820</td>\n",
       "      <td>10.700</td>\n",
       "      <td>8.100</td>\n",
       "      <td>13.300</td>\n",
       "      <td>...</td>\n",
       "      <td>20.400</td>\n",
       "      <td>66444</td>\n",
       "      <td>60061</td>\n",
       "      <td>72827</td>\n",
       "      <td>.</td>\n",
       "      <td>.</td>\n",
       "      <td>.</td>\n",
       "      <td>.</td>\n",
       "      <td>.</td>\n",
       "      <td>.</td>\n",
       "    </tr>\n",
       "    <tr>\n",
       "      <th>6</th>\n",
       "      <td>01</td>\n",
       "      <td>003</td>\n",
       "      <td>AL</td>\n",
       "      <td>Baldwin County</td>\n",
       "      <td>25526</td>\n",
       "      <td>21599</td>\n",
       "      <td>29453</td>\n",
       "      <td>10.800</td>\n",
       "      <td>9.100</td>\n",
       "      <td>12.500</td>\n",
       "      <td>...</td>\n",
       "      <td>18.500</td>\n",
       "      <td>65658</td>\n",
       "      <td>60723</td>\n",
       "      <td>70593</td>\n",
       "      <td>.</td>\n",
       "      <td>.</td>\n",
       "      <td>.</td>\n",
       "      <td>.</td>\n",
       "      <td>.</td>\n",
       "      <td>.</td>\n",
       "    </tr>\n",
       "    <tr>\n",
       "      <th>7</th>\n",
       "      <td>01</td>\n",
       "      <td>005</td>\n",
       "      <td>AL</td>\n",
       "      <td>Barbour County</td>\n",
       "      <td>5089</td>\n",
       "      <td>3773</td>\n",
       "      <td>6405</td>\n",
       "      <td>23</td>\n",
       "      <td>17</td>\n",
       "      <td>29</td>\n",
       "      <td>...</td>\n",
       "      <td>44.600</td>\n",
       "      <td>38649</td>\n",
       "      <td>34308</td>\n",
       "      <td>42990</td>\n",
       "      <td>.</td>\n",
       "      <td>.</td>\n",
       "      <td>.</td>\n",
       "      <td>.</td>\n",
       "      <td>.</td>\n",
       "      <td>.</td>\n",
       "    </tr>\n",
       "    <tr>\n",
       "      <th>8</th>\n",
       "      <td>01</td>\n",
       "      <td>007</td>\n",
       "      <td>AL</td>\n",
       "      <td>Bibb County</td>\n",
       "      <td>4204</td>\n",
       "      <td>3324</td>\n",
       "      <td>5084</td>\n",
       "      <td>20.600</td>\n",
       "      <td>16.300</td>\n",
       "      <td>24.900</td>\n",
       "      <td>...</td>\n",
       "      <td>35.400</td>\n",
       "      <td>48454</td>\n",
       "      <td>42438</td>\n",
       "      <td>54470</td>\n",
       "      <td>.</td>\n",
       "      <td>.</td>\n",
       "      <td>.</td>\n",
       "      <td>.</td>\n",
       "      <td>.</td>\n",
       "      <td>.</td>\n",
       "    </tr>\n",
       "  </tbody>\n",
       "</table>\n",
       "<p>5 rows × 31 columns</p>\n",
       "</div>"
      ],
      "text/plain": [
       "  Table with column headers in rows 3 and 4        Unnamed: 1   Unnamed: 2  \\\n",
       "2                           State FIPS Code  County FIPS Code  Postal Code   \n",
       "5                                        01               001           AL   \n",
       "6                                        01               003           AL   \n",
       "7                                        01               005           AL   \n",
       "8                                        01               007           AL   \n",
       "\n",
       "       Unnamed: 3                  Unnamed: 4          Unnamed: 5  \\\n",
       "2            Name  Poverty Estimate, All Ages  90% CI Lower Bound   \n",
       "5  Autauga County                        6296                4772   \n",
       "6  Baldwin County                       25526               21599   \n",
       "7  Barbour County                        5089                3773   \n",
       "8     Bibb County                        4204                3324   \n",
       "\n",
       "           Unnamed: 6                 Unnamed: 7          Unnamed: 8  \\\n",
       "2  90% CI Upper Bound  Poverty Percent, All Ages  90% CI Lower Bound   \n",
       "5                7820                     10.700               8.100   \n",
       "6               29453                     10.800               9.100   \n",
       "7                6405                         23                  17   \n",
       "8                5084                     20.600              16.300   \n",
       "\n",
       "           Unnamed: 9  ...         Unnamed: 21              Unnamed: 22  \\\n",
       "2  90% CI Upper Bound  ...  90% CI Upper Bound  Median Household Income   \n",
       "5              13.300  ...              20.400                    66444   \n",
       "6              12.500  ...              18.500                    65658   \n",
       "7                  29  ...              44.600                    38649   \n",
       "8              24.900  ...              35.400                    48454   \n",
       "\n",
       "          Unnamed: 23         Unnamed: 24                Unnamed: 25  \\\n",
       "2  90% CI Lower Bound  90% CI Upper Bound  Poverty Estimate, Age 0-4   \n",
       "5               60061               72827                          .   \n",
       "6               60723               70593                          .   \n",
       "7               34308               42990                          .   \n",
       "8               42438               54470                          .   \n",
       "\n",
       "          Unnamed: 26         Unnamed: 27               Unnamed: 28  \\\n",
       "2  90% CI Lower Bound  90% CI Upper Bound  Poverty Percent, Age 0-4   \n",
       "5                   .                   .                         .   \n",
       "6                   .                   .                         .   \n",
       "7                   .                   .                         .   \n",
       "8                   .                   .                         .   \n",
       "\n",
       "          Unnamed: 29         Unnamed: 30  \n",
       "2  90% CI Lower Bound  90% CI Upper Bound  \n",
       "5                   .                   .  \n",
       "6                   .                   .  \n",
       "7                   .                   .  \n",
       "8                   .                   .  \n",
       "\n",
       "[5 rows x 31 columns]"
      ]
     },
     "execution_count": 239,
     "metadata": {},
     "output_type": "execute_result"
    }
   ],
   "source": [
    "state_names = df_state_abbr.State.tolist()\n",
    "filter_out = state_names + ['United States']\n",
    "df_saipe = df_saipe[~df_saipe['Unnamed: 3'].isin(filter_out)]\n",
    "df_saipe.head()"
   ]
  },
  {
   "cell_type": "code",
   "execution_count": 240,
   "metadata": {},
   "outputs": [
    {
     "name": "stdout",
     "output_type": "stream",
     "text": [
      "invalid literal for int() with base 10: '.'\n",
      ".\n",
      "invalid literal for int() with base 10: '.'\n",
      ".\n"
     ]
    }
   ],
   "source": [
    "def to_int(v):\n",
    "    try:\n",
    "        return int(v)\n",
    "    except Exception as e:\n",
    "        print(e)\n",
    "        print(v)\n",
    "        return 0\n",
    "    \n",
    "teen_poverty = df_saipe.iloc[1:, 10].map(to_int)\n",
    "teen_poverty\n",
    "\n",
    "young_poverty = df_saipe.iloc[1:, 16].map(to_int)\n",
    "young_poverty\n",
    "\n",
    "child_poverty = teen_poverty - young_poverty"
   ]
  },
  {
   "cell_type": "code",
   "execution_count": 241,
   "metadata": {},
   "outputs": [
    {
     "data": {
      "text/html": [
       "<div>\n",
       "<style scoped>\n",
       "    .dataframe tbody tr th:only-of-type {\n",
       "        vertical-align: middle;\n",
       "    }\n",
       "\n",
       "    .dataframe tbody tr th {\n",
       "        vertical-align: top;\n",
       "    }\n",
       "\n",
       "    .dataframe thead th {\n",
       "        text-align: right;\n",
       "    }\n",
       "</style>\n",
       "<table border=\"1\" class=\"dataframe\">\n",
       "  <thead>\n",
       "    <tr style=\"text-align: right;\">\n",
       "      <th></th>\n",
       "      <th>state</th>\n",
       "      <th>county</th>\n",
       "      <th>county_fips</th>\n",
       "      <th>child_poverty_count</th>\n",
       "    </tr>\n",
       "  </thead>\n",
       "  <tbody>\n",
       "    <tr>\n",
       "      <th>5</th>\n",
       "      <td>AL</td>\n",
       "      <td>Autauga County</td>\n",
       "      <td>01</td>\n",
       "      <td>592</td>\n",
       "    </tr>\n",
       "    <tr>\n",
       "      <th>6</th>\n",
       "      <td>AL</td>\n",
       "      <td>Baldwin County</td>\n",
       "      <td>01</td>\n",
       "      <td>2445</td>\n",
       "    </tr>\n",
       "    <tr>\n",
       "      <th>7</th>\n",
       "      <td>AL</td>\n",
       "      <td>Barbour County</td>\n",
       "      <td>01</td>\n",
       "      <td>500</td>\n",
       "    </tr>\n",
       "    <tr>\n",
       "      <th>8</th>\n",
       "      <td>AL</td>\n",
       "      <td>Bibb County</td>\n",
       "      <td>01</td>\n",
       "      <td>335</td>\n",
       "    </tr>\n",
       "    <tr>\n",
       "      <th>9</th>\n",
       "      <td>AL</td>\n",
       "      <td>Blount County</td>\n",
       "      <td>01</td>\n",
       "      <td>637</td>\n",
       "    </tr>\n",
       "  </tbody>\n",
       "</table>\n",
       "</div>"
      ],
      "text/plain": [
       "  state          county county_fips  child_poverty_count\n",
       "5    AL  Autauga County          01                  592\n",
       "6    AL  Baldwin County          01                 2445\n",
       "7    AL  Barbour County          01                  500\n",
       "8    AL     Bibb County          01                  335\n",
       "9    AL   Blount County          01                  637"
      ]
     },
     "execution_count": 241,
     "metadata": {},
     "output_type": "execute_result"
    }
   ],
   "source": [
    "df_child_poverty = pd.DataFrame({\n",
    "    'state': df_saipe.iloc[1:, 2],\n",
    "    'county': df_saipe.iloc[1:, 3],\n",
    "    'county_fips': df_saipe.iloc[1:, 0],\n",
    "    'child_poverty_count': child_poverty.values,    # estimated number of children in poverty\n",
    "})\n",
    "\n",
    "df_child_poverty.head()"
   ]
  },
  {
   "cell_type": "code",
   "execution_count": 242,
   "metadata": {},
   "outputs": [
    {
     "data": {
      "text/html": [
       "<div>\n",
       "<style scoped>\n",
       "    .dataframe tbody tr th:only-of-type {\n",
       "        vertical-align: middle;\n",
       "    }\n",
       "\n",
       "    .dataframe tbody tr th {\n",
       "        vertical-align: top;\n",
       "    }\n",
       "\n",
       "    .dataframe thead th {\n",
       "        text-align: right;\n",
       "    }\n",
       "</style>\n",
       "<table border=\"1\" class=\"dataframe\">\n",
       "  <thead>\n",
       "    <tr style=\"text-align: right;\">\n",
       "      <th></th>\n",
       "      <th>state</th>\n",
       "      <th>county</th>\n",
       "      <th>county_fips</th>\n",
       "      <th>child_poverty_count</th>\n",
       "    </tr>\n",
       "  </thead>\n",
       "  <tbody>\n",
       "    <tr>\n",
       "      <th>5</th>\n",
       "      <td>AL</td>\n",
       "      <td>Autauga County</td>\n",
       "      <td>01</td>\n",
       "      <td>592</td>\n",
       "    </tr>\n",
       "    <tr>\n",
       "      <th>6</th>\n",
       "      <td>AL</td>\n",
       "      <td>Baldwin County</td>\n",
       "      <td>01</td>\n",
       "      <td>2445</td>\n",
       "    </tr>\n",
       "    <tr>\n",
       "      <th>7</th>\n",
       "      <td>AL</td>\n",
       "      <td>Barbour County</td>\n",
       "      <td>01</td>\n",
       "      <td>500</td>\n",
       "    </tr>\n",
       "    <tr>\n",
       "      <th>8</th>\n",
       "      <td>AL</td>\n",
       "      <td>Bibb County</td>\n",
       "      <td>01</td>\n",
       "      <td>335</td>\n",
       "    </tr>\n",
       "    <tr>\n",
       "      <th>9</th>\n",
       "      <td>AL</td>\n",
       "      <td>Blount County</td>\n",
       "      <td>01</td>\n",
       "      <td>637</td>\n",
       "    </tr>\n",
       "    <tr>\n",
       "      <th>...</th>\n",
       "      <td>...</td>\n",
       "      <td>...</td>\n",
       "      <td>...</td>\n",
       "      <td>...</td>\n",
       "    </tr>\n",
       "    <tr>\n",
       "      <th>3193</th>\n",
       "      <td>WY</td>\n",
       "      <td>Sweetwater County</td>\n",
       "      <td>56</td>\n",
       "      <td>320</td>\n",
       "    </tr>\n",
       "    <tr>\n",
       "      <th>3194</th>\n",
       "      <td>WY</td>\n",
       "      <td>Teton County</td>\n",
       "      <td>56</td>\n",
       "      <td>81</td>\n",
       "    </tr>\n",
       "    <tr>\n",
       "      <th>3195</th>\n",
       "      <td>WY</td>\n",
       "      <td>Uinta County</td>\n",
       "      <td>56</td>\n",
       "      <td>221</td>\n",
       "    </tr>\n",
       "    <tr>\n",
       "      <th>3196</th>\n",
       "      <td>WY</td>\n",
       "      <td>Washakie County</td>\n",
       "      <td>56</td>\n",
       "      <td>59</td>\n",
       "    </tr>\n",
       "    <tr>\n",
       "      <th>3197</th>\n",
       "      <td>WY</td>\n",
       "      <td>Weston County</td>\n",
       "      <td>56</td>\n",
       "      <td>54</td>\n",
       "    </tr>\n",
       "  </tbody>\n",
       "</table>\n",
       "<p>3071 rows × 4 columns</p>\n",
       "</div>"
      ],
      "text/plain": [
       "     state             county county_fips  child_poverty_count\n",
       "5       AL     Autauga County          01                  592\n",
       "6       AL     Baldwin County          01                 2445\n",
       "7       AL     Barbour County          01                  500\n",
       "8       AL        Bibb County          01                  335\n",
       "9       AL      Blount County          01                  637\n",
       "...    ...                ...         ...                  ...\n",
       "3193    WY  Sweetwater County          56                  320\n",
       "3194    WY       Teton County          56                   81\n",
       "3195    WY       Uinta County          56                  221\n",
       "3196    WY    Washakie County          56                   59\n",
       "3197    WY      Weston County          56                   54\n",
       "\n",
       "[3071 rows x 4 columns]"
      ]
     },
     "execution_count": 242,
     "metadata": {},
     "output_type": "execute_result"
    }
   ],
   "source": [
    "df_child_poverty[df_child_poverty.county.str.contains('County|Parish')] # only study county level data"
   ]
  },
  {
   "cell_type": "code",
   "execution_count": 243,
   "metadata": {},
   "outputs": [
    {
     "name": "stdout",
     "output_type": "stream",
     "text": [
      "(3142, 6) 3142\n"
     ]
    },
    {
     "data": {
      "text/html": [
       "<div>\n",
       "<style scoped>\n",
       "    .dataframe tbody tr th:only-of-type {\n",
       "        vertical-align: middle;\n",
       "    }\n",
       "\n",
       "    .dataframe tbody tr th {\n",
       "        vertical-align: top;\n",
       "    }\n",
       "\n",
       "    .dataframe thead th {\n",
       "        text-align: right;\n",
       "    }\n",
       "</style>\n",
       "<table border=\"1\" class=\"dataframe\">\n",
       "  <thead>\n",
       "    <tr style=\"text-align: right;\">\n",
       "      <th></th>\n",
       "      <th>state</th>\n",
       "      <th>county</th>\n",
       "      <th>county_fips</th>\n",
       "      <th>child_poverty_count</th>\n",
       "      <th>state_name</th>\n",
       "      <th>state_county</th>\n",
       "    </tr>\n",
       "  </thead>\n",
       "  <tbody>\n",
       "    <tr>\n",
       "      <th>0</th>\n",
       "      <td>AL</td>\n",
       "      <td>Autauga County</td>\n",
       "      <td>01</td>\n",
       "      <td>592</td>\n",
       "      <td>Alabama</td>\n",
       "      <td>AL Autauga County</td>\n",
       "    </tr>\n",
       "    <tr>\n",
       "      <th>1</th>\n",
       "      <td>AL</td>\n",
       "      <td>Baldwin County</td>\n",
       "      <td>01</td>\n",
       "      <td>2445</td>\n",
       "      <td>Alabama</td>\n",
       "      <td>AL Baldwin County</td>\n",
       "    </tr>\n",
       "    <tr>\n",
       "      <th>2</th>\n",
       "      <td>AL</td>\n",
       "      <td>Barbour County</td>\n",
       "      <td>01</td>\n",
       "      <td>500</td>\n",
       "      <td>Alabama</td>\n",
       "      <td>AL Barbour County</td>\n",
       "    </tr>\n",
       "    <tr>\n",
       "      <th>3</th>\n",
       "      <td>AL</td>\n",
       "      <td>Bibb County</td>\n",
       "      <td>01</td>\n",
       "      <td>335</td>\n",
       "      <td>Alabama</td>\n",
       "      <td>AL Bibb County</td>\n",
       "    </tr>\n",
       "    <tr>\n",
       "      <th>4</th>\n",
       "      <td>AL</td>\n",
       "      <td>Blount County</td>\n",
       "      <td>01</td>\n",
       "      <td>637</td>\n",
       "      <td>Alabama</td>\n",
       "      <td>AL Blount County</td>\n",
       "    </tr>\n",
       "  </tbody>\n",
       "</table>\n",
       "</div>"
      ],
      "text/plain": [
       "  state          county county_fips  child_poverty_count state_name  \\\n",
       "0    AL  Autauga County          01                  592    Alabama   \n",
       "1    AL  Baldwin County          01                 2445    Alabama   \n",
       "2    AL  Barbour County          01                  500    Alabama   \n",
       "3    AL     Bibb County          01                  335    Alabama   \n",
       "4    AL   Blount County          01                  637    Alabama   \n",
       "\n",
       "        state_county  \n",
       "0  AL Autauga County  \n",
       "1  AL Baldwin County  \n",
       "2  AL Barbour County  \n",
       "3     AL Bibb County  \n",
       "4   AL Blount County  "
      ]
     },
     "execution_count": 243,
     "metadata": {},
     "output_type": "execute_result"
    }
   ],
   "source": [
    "df_child_poverty = pd.merge(df_child_poverty, df_state_abbr, left_on='state', right_on='Abbreviation', how='left',).drop(columns=['Abbreviation'])\n",
    "col = df_child_poverty.columns.tolist()\n",
    "col[-1] = 'state_name'\n",
    "df_child_poverty.columns = col\n",
    "\n",
    "df_child_poverty['state_county'] = df_child_poverty.state + ' ' + df_child_poverty.county\n",
    "print(df_child_poverty.shape, df_child_poverty.state_county.nunique()   )\n",
    "df_child_poverty.head()"
   ]
  },
  {
   "cell_type": "markdown",
   "metadata": {},
   "source": [
    "##### <b>Metric: Children per Center (CPC)</b>\n",
    "- Definition: The number of enrolled children divided by the number of centers. Can be calculated at either county or state level. In this analysis it is calculated at county level.\n",
    "- Usage: \n",
    "\n",
    "- - Evaluate the average workload of head start centers within a region. If the metric goes too high, the children in the corresponding area may be underserved because the resources are shared by too many children. If the metric goes too low, the centers in the corresponding area may not be fully utilized."
   ]
  },
  {
   "cell_type": "code",
   "execution_count": 244,
   "metadata": {},
   "outputs": [
    {
     "data": {
      "text/html": [
       "<div>\n",
       "<style scoped>\n",
       "    .dataframe tbody tr th:only-of-type {\n",
       "        vertical-align: middle;\n",
       "    }\n",
       "\n",
       "    .dataframe tbody tr th {\n",
       "        vertical-align: top;\n",
       "    }\n",
       "\n",
       "    .dataframe thead th {\n",
       "        text-align: right;\n",
       "    }\n",
       "</style>\n",
       "<table border=\"1\" class=\"dataframe\">\n",
       "  <thead>\n",
       "    <tr style=\"text-align: right;\">\n",
       "      <th></th>\n",
       "      <th>state_name</th>\n",
       "      <th>federal_funding</th>\n",
       "      <th>enrollment_count</th>\n",
       "      <th>state</th>\n",
       "      <th>rgdp</th>\n",
       "      <th>personal_income</th>\n",
       "      <th>fund_per_child</th>\n",
       "      <th>funding_index</th>\n",
       "    </tr>\n",
       "  </thead>\n",
       "  <tbody>\n",
       "    <tr>\n",
       "      <th>0</th>\n",
       "      <td>Alaska</td>\n",
       "      <td>20579547.000</td>\n",
       "      <td>1348</td>\n",
       "      <td>AK</td>\n",
       "      <td>50315.100</td>\n",
       "      <td>50349.700</td>\n",
       "      <td>15266.726</td>\n",
       "      <td>0.303</td>\n",
       "    </tr>\n",
       "    <tr>\n",
       "      <th>1</th>\n",
       "      <td>Alabama</td>\n",
       "      <td>156825889.000</td>\n",
       "      <td>13438</td>\n",
       "      <td>AL</td>\n",
       "      <td>235807.300</td>\n",
       "      <td>258362.200</td>\n",
       "      <td>11670.330</td>\n",
       "      <td>0.045</td>\n",
       "    </tr>\n",
       "    <tr>\n",
       "      <th>2</th>\n",
       "      <td>Arkansas</td>\n",
       "      <td>106372981.000</td>\n",
       "      <td>9191</td>\n",
       "      <td>AR</td>\n",
       "      <td>137355.500</td>\n",
       "      <td>160254.200</td>\n",
       "      <td>11573.603</td>\n",
       "      <td>0.072</td>\n",
       "    </tr>\n",
       "    <tr>\n",
       "      <th>3</th>\n",
       "      <td>Arizona</td>\n",
       "      <td>175213573.000</td>\n",
       "      <td>13054</td>\n",
       "      <td>AZ</td>\n",
       "      <td>403474.200</td>\n",
       "      <td>430083.500</td>\n",
       "      <td>13422.213</td>\n",
       "      <td>0.031</td>\n",
       "    </tr>\n",
       "    <tr>\n",
       "      <th>4</th>\n",
       "      <td>California</td>\n",
       "      <td>1320500737.000</td>\n",
       "      <td>87819</td>\n",
       "      <td>CA</td>\n",
       "      <td>3167460.800</td>\n",
       "      <td>3006647.300</td>\n",
       "      <td>15036.618</td>\n",
       "      <td>0.005</td>\n",
       "    </tr>\n",
       "  </tbody>\n",
       "</table>\n",
       "</div>"
      ],
      "text/plain": [
       "   state_name  federal_funding  enrollment_count state        rgdp  \\\n",
       "0      Alaska     20579547.000              1348    AK   50315.100   \n",
       "1     Alabama    156825889.000             13438    AL  235807.300   \n",
       "2    Arkansas    106372981.000              9191    AR  137355.500   \n",
       "3     Arizona    175213573.000             13054    AZ  403474.200   \n",
       "4  California   1320500737.000             87819    CA 3167460.800   \n",
       "\n",
       "   personal_income  fund_per_child  funding_index  \n",
       "0        50349.700       15266.726          0.303  \n",
       "1       258362.200       11670.330          0.045  \n",
       "2       160254.200       11573.603          0.072  \n",
       "3       430083.500       13422.213          0.031  \n",
       "4      3006647.300       15036.618          0.005  "
      ]
     },
     "execution_count": 244,
     "metadata": {},
     "output_type": "execute_result"
    }
   ],
   "source": [
    "df_headstart_fiscal.head()"
   ]
  },
  {
   "cell_type": "code",
   "execution_count": 245,
   "metadata": {},
   "outputs": [
    {
     "data": {
      "text/html": [
       "<div>\n",
       "<style scoped>\n",
       "    .dataframe tbody tr th:only-of-type {\n",
       "        vertical-align: middle;\n",
       "    }\n",
       "\n",
       "    .dataframe tbody tr th {\n",
       "        vertical-align: top;\n",
       "    }\n",
       "\n",
       "    .dataframe thead th {\n",
       "        text-align: right;\n",
       "    }\n",
       "</style>\n",
       "<table border=\"1\" class=\"dataframe\">\n",
       "  <thead>\n",
       "    <tr style=\"text-align: right;\">\n",
       "      <th></th>\n",
       "      <th>state</th>\n",
       "      <th>county</th>\n",
       "      <th>county_fips</th>\n",
       "      <th>child_poverty_count</th>\n",
       "      <th>state_name</th>\n",
       "      <th>state_county</th>\n",
       "      <th>cpc</th>\n",
       "      <th>has_center</th>\n",
       "      <th>state_cpc</th>\n",
       "    </tr>\n",
       "  </thead>\n",
       "  <tbody>\n",
       "    <tr>\n",
       "      <th>0</th>\n",
       "      <td>AL</td>\n",
       "      <td>Autauga County</td>\n",
       "      <td>01</td>\n",
       "      <td>592</td>\n",
       "      <td>Alabama</td>\n",
       "      <td>AL Autauga County</td>\n",
       "      <td>296.000</td>\n",
       "      <td>True</td>\n",
       "      <td>42.125</td>\n",
       "    </tr>\n",
       "    <tr>\n",
       "      <th>1</th>\n",
       "      <td>AL</td>\n",
       "      <td>Baldwin County</td>\n",
       "      <td>01</td>\n",
       "      <td>2445</td>\n",
       "      <td>Alabama</td>\n",
       "      <td>AL Baldwin County</td>\n",
       "      <td>489.000</td>\n",
       "      <td>True</td>\n",
       "      <td>42.125</td>\n",
       "    </tr>\n",
       "    <tr>\n",
       "      <th>2</th>\n",
       "      <td>AL</td>\n",
       "      <td>Barbour County</td>\n",
       "      <td>01</td>\n",
       "      <td>500</td>\n",
       "      <td>Alabama</td>\n",
       "      <td>AL Barbour County</td>\n",
       "      <td>500.000</td>\n",
       "      <td>True</td>\n",
       "      <td>42.125</td>\n",
       "    </tr>\n",
       "    <tr>\n",
       "      <th>3</th>\n",
       "      <td>AL</td>\n",
       "      <td>Bibb County</td>\n",
       "      <td>01</td>\n",
       "      <td>335</td>\n",
       "      <td>Alabama</td>\n",
       "      <td>AL Bibb County</td>\n",
       "      <td>335.000</td>\n",
       "      <td>True</td>\n",
       "      <td>42.125</td>\n",
       "    </tr>\n",
       "    <tr>\n",
       "      <th>4</th>\n",
       "      <td>AL</td>\n",
       "      <td>Blount County</td>\n",
       "      <td>01</td>\n",
       "      <td>637</td>\n",
       "      <td>Alabama</td>\n",
       "      <td>AL Blount County</td>\n",
       "      <td>127.400</td>\n",
       "      <td>True</td>\n",
       "      <td>42.125</td>\n",
       "    </tr>\n",
       "  </tbody>\n",
       "</table>\n",
       "</div>"
      ],
      "text/plain": [
       "  state          county county_fips  child_poverty_count state_name  \\\n",
       "0    AL  Autauga County          01                  592    Alabama   \n",
       "1    AL  Baldwin County          01                 2445    Alabama   \n",
       "2    AL  Barbour County          01                  500    Alabama   \n",
       "3    AL     Bibb County          01                  335    Alabama   \n",
       "4    AL   Blount County          01                  637    Alabama   \n",
       "\n",
       "        state_county     cpc has_center  state_cpc  \n",
       "0  AL Autauga County 296.000       True     42.125  \n",
       "1  AL Baldwin County 489.000       True     42.125  \n",
       "2  AL Barbour County 500.000       True     42.125  \n",
       "3     AL Bibb County 335.000       True     42.125  \n",
       "4   AL Blount County 127.400       True     42.125  "
      ]
     },
     "execution_count": 245,
     "metadata": {},
     "output_type": "execute_result"
    }
   ],
   "source": [
    "def get_child_per_center(children:float, centers: float):\n",
    "    if centers == 0 or centers == np.nan:\n",
    "        return np.nan\n",
    "    return round(children / centers, 5)\n",
    "\n",
    "\n",
    "def find_county_cpc(index):\n",
    "    state_county = df_child_poverty.loc[index, 'state_county']\n",
    "    count_children = df_child_poverty.loc[index, 'child_poverty_count']\n",
    "    count_centers = df_headstart_center[df_headstart_center.state_county == state_county].shape[0]\n",
    "    return get_child_per_center(count_children, count_centers)\n",
    "\n",
    "\n",
    "def find_state_cpc(index):\n",
    "    state = df_child_poverty.loc[index, 'state']\n",
    "    count_enrolled_children = df_headstart_fiscal[df_headstart_fiscal.state == state].enrollment_count.values[0]\n",
    "    count_centers = df_headstart_center[df_headstart_center.state == state].shape[0]\n",
    "    return get_child_per_center(count_enrolled_children, count_centers)\n",
    "\n",
    "\n",
    "def check_has_center(index):\n",
    "    state_county = df_child_poverty.loc[index, 'state_county']\n",
    "    count_centers = df_headstart_center[df_headstart_center.state_county == state_county].shape[0]\n",
    "    return count_centers > 0\n",
    "\n",
    "\n",
    "df_child_poverty['cpc'] = df_child_poverty.index.map(find_county_cpc)\n",
    "df_child_poverty['has_center'] = df_child_poverty.index.map(check_has_center)\n",
    "df_child_poverty['state_cpc'] = df_child_poverty.index.map(find_state_cpc)\n",
    "df_child_poverty.head()"
   ]
  },
  {
   "cell_type": "code",
   "execution_count": 246,
   "metadata": {},
   "outputs": [
    {
     "data": {
      "text/plain": [
       "(3142, 1877)"
      ]
     },
     "execution_count": 246,
     "metadata": {},
     "output_type": "execute_result"
    }
   ],
   "source": [
    "df_child_poverty.shape[0], df_child_poverty.county.nunique() # counties may have same name but different state"
   ]
  },
  {
   "cell_type": "code",
   "execution_count": 247,
   "metadata": {},
   "outputs": [],
   "source": [
    "df_county_boundaries = pd.read_html('https://en.wikipedia.org/wiki/User:Michael_J/County_table')[0].iloc[:, 1:]"
   ]
  },
  {
   "cell_type": "code",
   "execution_count": 248,
   "metadata": {},
   "outputs": [
    {
     "data": {
      "text/html": [
       "<div>\n",
       "<style scoped>\n",
       "    .dataframe tbody tr th:only-of-type {\n",
       "        vertical-align: middle;\n",
       "    }\n",
       "\n",
       "    .dataframe tbody tr th {\n",
       "        vertical-align: top;\n",
       "    }\n",
       "\n",
       "    .dataframe thead th {\n",
       "        text-align: right;\n",
       "    }\n",
       "</style>\n",
       "<table border=\"1\" class=\"dataframe\">\n",
       "  <thead>\n",
       "    <tr style=\"text-align: right;\">\n",
       "      <th></th>\n",
       "      <th>state</th>\n",
       "      <th>fips</th>\n",
       "      <th>county</th>\n",
       "      <th>county seat(s) [3]</th>\n",
       "      <th>population(2010)</th>\n",
       "      <th>land areakm²</th>\n",
       "      <th>land areami²</th>\n",
       "      <th>water areakm²</th>\n",
       "      <th>water areami²</th>\n",
       "      <th>total areakm²</th>\n",
       "      <th>total areami²</th>\n",
       "      <th>latitude</th>\n",
       "      <th>longitude</th>\n",
       "    </tr>\n",
       "  </thead>\n",
       "  <tbody>\n",
       "    <tr>\n",
       "      <th>0</th>\n",
       "      <td>AL</td>\n",
       "      <td>1001</td>\n",
       "      <td>Autauga</td>\n",
       "      <td>Prattville</td>\n",
       "      <td>54571</td>\n",
       "      <td>1539.582</td>\n",
       "      <td>594.436</td>\n",
       "      <td>25.776</td>\n",
       "      <td>9.952</td>\n",
       "      <td>1565.358</td>\n",
       "      <td>604.388</td>\n",
       "      <td>32.536</td>\n",
       "      <td>-86.644</td>\n",
       "    </tr>\n",
       "    <tr>\n",
       "      <th>1</th>\n",
       "      <td>AL</td>\n",
       "      <td>1003</td>\n",
       "      <td>Baldwin</td>\n",
       "      <td>Bay Minette</td>\n",
       "      <td>182265</td>\n",
       "      <td>4117.522</td>\n",
       "      <td>1589.784</td>\n",
       "      <td>1133.190</td>\n",
       "      <td>437.527</td>\n",
       "      <td>5250.712</td>\n",
       "      <td>2027.311</td>\n",
       "      <td>30.659</td>\n",
       "      <td>-87.746</td>\n",
       "    </tr>\n",
       "    <tr>\n",
       "      <th>2</th>\n",
       "      <td>AL</td>\n",
       "      <td>1005</td>\n",
       "      <td>Barbour</td>\n",
       "      <td>Clayton</td>\n",
       "      <td>27457</td>\n",
       "      <td>2291.819</td>\n",
       "      <td>884.876</td>\n",
       "      <td>50.865</td>\n",
       "      <td>19.639</td>\n",
       "      <td>2342.684</td>\n",
       "      <td>904.515</td>\n",
       "      <td>31.871</td>\n",
       "      <td>-85.405</td>\n",
       "    </tr>\n",
       "    <tr>\n",
       "      <th>3</th>\n",
       "      <td>AL</td>\n",
       "      <td>1007</td>\n",
       "      <td>Bibb</td>\n",
       "      <td>Centreville</td>\n",
       "      <td>22915</td>\n",
       "      <td>1612.481</td>\n",
       "      <td>622.582</td>\n",
       "      <td>9.289</td>\n",
       "      <td>3.587</td>\n",
       "      <td>1621.770</td>\n",
       "      <td>626.169</td>\n",
       "      <td>33.016</td>\n",
       "      <td>-87.127</td>\n",
       "    </tr>\n",
       "    <tr>\n",
       "      <th>4</th>\n",
       "      <td>AL</td>\n",
       "      <td>1009</td>\n",
       "      <td>Blount</td>\n",
       "      <td>Oneonta</td>\n",
       "      <td>57322</td>\n",
       "      <td>1669.962</td>\n",
       "      <td>644.776</td>\n",
       "      <td>15.157</td>\n",
       "      <td>5.852</td>\n",
       "      <td>1685.119</td>\n",
       "      <td>650.628</td>\n",
       "      <td>33.977</td>\n",
       "      <td>-86.567</td>\n",
       "    </tr>\n",
       "  </tbody>\n",
       "</table>\n",
       "</div>"
      ],
      "text/plain": [
       "  state  fips   county county seat(s) [3]  population(2010)  land areakm²  \\\n",
       "0    AL  1001  Autauga         Prattville             54571      1539.582   \n",
       "1    AL  1003  Baldwin        Bay Minette            182265      4117.522   \n",
       "2    AL  1005  Barbour            Clayton             27457      2291.819   \n",
       "3    AL  1007     Bibb        Centreville             22915      1612.481   \n",
       "4    AL  1009   Blount            Oneonta             57322      1669.962   \n",
       "\n",
       "   land areami² water areakm² water areami²  total areakm²  total areami²  \\\n",
       "0       594.436        25.776         9.952       1565.358        604.388   \n",
       "1      1589.784      1133.190       437.527       5250.712       2027.311   \n",
       "2       884.876        50.865        19.639       2342.684        904.515   \n",
       "3       622.582         9.289         3.587       1621.770        626.169   \n",
       "4       644.776        15.157         5.852       1685.119        650.628   \n",
       "\n",
       "   latitude  longitude  \n",
       "0    32.536    -86.644  \n",
       "1    30.659    -87.746  \n",
       "2    31.871    -85.405  \n",
       "3    33.016    -87.127  \n",
       "4    33.977    -86.567  "
      ]
     },
     "execution_count": 248,
     "metadata": {},
     "output_type": "execute_result"
    }
   ],
   "source": [
    "def to_float(s):\n",
    "    try:\n",
    "        return float(s.replace('–', '-'))\n",
    "    except Exception as e:\n",
    "        print(e)\n",
    "        print(s)\n",
    "        return 0\n",
    "\n",
    "\n",
    "col = df_county_boundaries.columns.map(lambda s: s.lower()).tolist()\n",
    "col[2] = 'county'\n",
    "df_county_boundaries.columns = col\n",
    "df_county_boundaries.latitude = df_county_boundaries.latitude.map(lambda s: to_float(s[:-1]))\n",
    "df_county_boundaries.longitude = df_county_boundaries.longitude.map(lambda s: to_float(s[:-1]))\n",
    "df_county_boundaries.head()"
   ]
  },
  {
   "cell_type": "code",
   "execution_count": 249,
   "metadata": {},
   "outputs": [
    {
     "data": {
      "text/html": [
       "<div>\n",
       "<style scoped>\n",
       "    .dataframe tbody tr th:only-of-type {\n",
       "        vertical-align: middle;\n",
       "    }\n",
       "\n",
       "    .dataframe tbody tr th {\n",
       "        vertical-align: top;\n",
       "    }\n",
       "\n",
       "    .dataframe thead th {\n",
       "        text-align: right;\n",
       "    }\n",
       "</style>\n",
       "<table border=\"1\" class=\"dataframe\">\n",
       "  <thead>\n",
       "    <tr style=\"text-align: right;\">\n",
       "      <th></th>\n",
       "      <th>state</th>\n",
       "      <th>county</th>\n",
       "      <th>county_fips</th>\n",
       "      <th>child_poverty_count</th>\n",
       "      <th>state_name</th>\n",
       "      <th>state_county</th>\n",
       "      <th>cpc</th>\n",
       "      <th>has_center</th>\n",
       "      <th>state_cpc</th>\n",
       "      <th>latitude</th>\n",
       "      <th>longitude</th>\n",
       "    </tr>\n",
       "  </thead>\n",
       "  <tbody>\n",
       "    <tr>\n",
       "      <th>0</th>\n",
       "      <td>AL</td>\n",
       "      <td>Autauga County</td>\n",
       "      <td>01</td>\n",
       "      <td>592</td>\n",
       "      <td>Alabama</td>\n",
       "      <td>AL Autauga County</td>\n",
       "      <td>296.000</td>\n",
       "      <td>True</td>\n",
       "      <td>42.125</td>\n",
       "      <td>32.536</td>\n",
       "      <td>-86.644</td>\n",
       "    </tr>\n",
       "    <tr>\n",
       "      <th>1</th>\n",
       "      <td>AL</td>\n",
       "      <td>Baldwin County</td>\n",
       "      <td>01</td>\n",
       "      <td>2445</td>\n",
       "      <td>Alabama</td>\n",
       "      <td>AL Baldwin County</td>\n",
       "      <td>489.000</td>\n",
       "      <td>True</td>\n",
       "      <td>42.125</td>\n",
       "      <td>30.659</td>\n",
       "      <td>-87.746</td>\n",
       "    </tr>\n",
       "    <tr>\n",
       "      <th>2</th>\n",
       "      <td>AL</td>\n",
       "      <td>Barbour County</td>\n",
       "      <td>01</td>\n",
       "      <td>500</td>\n",
       "      <td>Alabama</td>\n",
       "      <td>AL Barbour County</td>\n",
       "      <td>500.000</td>\n",
       "      <td>True</td>\n",
       "      <td>42.125</td>\n",
       "      <td>31.871</td>\n",
       "      <td>-85.405</td>\n",
       "    </tr>\n",
       "    <tr>\n",
       "      <th>3</th>\n",
       "      <td>AL</td>\n",
       "      <td>Bibb County</td>\n",
       "      <td>01</td>\n",
       "      <td>335</td>\n",
       "      <td>Alabama</td>\n",
       "      <td>AL Bibb County</td>\n",
       "      <td>335.000</td>\n",
       "      <td>True</td>\n",
       "      <td>42.125</td>\n",
       "      <td>33.016</td>\n",
       "      <td>-87.127</td>\n",
       "    </tr>\n",
       "    <tr>\n",
       "      <th>4</th>\n",
       "      <td>AL</td>\n",
       "      <td>Blount County</td>\n",
       "      <td>01</td>\n",
       "      <td>637</td>\n",
       "      <td>Alabama</td>\n",
       "      <td>AL Blount County</td>\n",
       "      <td>127.400</td>\n",
       "      <td>True</td>\n",
       "      <td>42.125</td>\n",
       "      <td>33.977</td>\n",
       "      <td>-86.567</td>\n",
       "    </tr>\n",
       "  </tbody>\n",
       "</table>\n",
       "</div>"
      ],
      "text/plain": [
       "  state          county county_fips  child_poverty_count state_name  \\\n",
       "0    AL  Autauga County          01                  592    Alabama   \n",
       "1    AL  Baldwin County          01                 2445    Alabama   \n",
       "2    AL  Barbour County          01                  500    Alabama   \n",
       "3    AL     Bibb County          01                  335    Alabama   \n",
       "4    AL   Blount County          01                  637    Alabama   \n",
       "\n",
       "        state_county     cpc has_center  state_cpc  latitude  longitude  \n",
       "0  AL Autauga County 296.000       True     42.125    32.536    -86.644  \n",
       "1  AL Baldwin County 489.000       True     42.125    30.659    -87.746  \n",
       "2  AL Barbour County 500.000       True     42.125    31.871    -85.405  \n",
       "3     AL Bibb County 335.000       True     42.125    33.016    -87.127  \n",
       "4   AL Blount County 127.400       True     42.125    33.977    -86.567  "
      ]
     },
     "execution_count": 249,
     "metadata": {},
     "output_type": "execute_result"
    }
   ],
   "source": [
    "df_county_boundaries['state_county'] = df_county_boundaries.state + ' ' + df_county_boundaries.county + \" County\"\n",
    "df_child_poverty = pd.merge(df_child_poverty, df_county_boundaries[['state_county', 'latitude', 'longitude']], on='state_county', how='left')\n",
    "df_child_poverty.head()"
   ]
  },
  {
   "cell_type": "code",
   "execution_count": 250,
   "metadata": {},
   "outputs": [
    {
     "data": {
      "text/plain": [
       "(32, 32)"
      ]
     },
     "execution_count": 250,
     "metadata": {},
     "output_type": "execute_result"
    }
   ],
   "source": [
    "no_pos_state_county = df_child_poverty[df_child_poverty.latitude.isna() | df_child_poverty.longitude.isna()]['state_county']\n",
    "df_avg_pos = df_headstart_center[df_headstart_center.state_county.isin(no_pos_state_county)].groupby('state_county').agg({'latitude': 'mean', 'longitude': 'mean'})\n",
    "\n",
    "\n",
    "def find_lat(index):\n",
    "    state_county = df_child_poverty.loc[index, 'state_county']\n",
    "    if state_county not in df_avg_pos.index:\n",
    "        return np.nan\n",
    "    lat = df_avg_pos.loc[state_county, 'latitude']\n",
    "    return lat\n",
    "\n",
    "def find_long(index):\n",
    "    state_county = df_child_poverty.loc[index, 'state_county']\n",
    "    if state_county not in df_avg_pos.index:\n",
    "        return np.nan\n",
    "    long = df_avg_pos.loc[state_county, 'longitude']\n",
    "    return long\n",
    "\n",
    "df_child_poverty.loc[df_child_poverty.latitude.isna(), 'latitude'] = df_child_poverty[df_child_poverty.latitude.isna()].index.map(find_lat)\n",
    "df_child_poverty.loc[df_child_poverty.longitude.isna(), 'longitude'] = df_child_poverty[df_child_poverty.longitude.isna()].index.map(find_long)\n",
    "df_child_poverty.latitude.isna().sum(), df_child_poverty.longitude.isna().sum()"
   ]
  },
  {
   "cell_type": "code",
   "execution_count": 251,
   "metadata": {},
   "outputs": [
    {
     "data": {
      "text/plain": [
       "(3063, 11)"
      ]
     },
     "execution_count": 251,
     "metadata": {},
     "output_type": "execute_result"
    }
   ],
   "source": [
    "df_child_poverty = df_child_poverty[~(df_child_poverty.latitude.isna() | df_child_poverty.longitude.isna()) & df_child_poverty.state_county.str.contains('County|Parish')]\n",
    "df_child_poverty.shape"
   ]
  },
  {
   "cell_type": "code",
   "execution_count": 252,
   "metadata": {},
   "outputs": [
    {
     "data": {
      "text/plain": [
       "(0, 0)"
      ]
     },
     "execution_count": 252,
     "metadata": {},
     "output_type": "execute_result"
    }
   ],
   "source": [
    "df_child_poverty.latitude.isna().sum(), df_child_poverty.longitude.isna().sum()"
   ]
  },
  {
   "cell_type": "markdown",
   "metadata": {},
   "source": [
    "##### <b>Metric: Center Coverage Rate</b>\n",
    "- Definition: The number of regions where head start is available divided by the number of regions. The regions can be either county, state, or other well-defined unit. In our analysis it is calculated at county level.\n",
    "- Usage: \n",
    "- - Gives an overall idea of the accessibility of head start program across the nation."
   ]
  },
  {
   "cell_type": "code",
   "execution_count": 253,
   "metadata": {},
   "outputs": [
    {
     "data": {
      "text/plain": [
       "0.8971596474045054"
      ]
     },
     "execution_count": 253,
     "metadata": {},
     "output_type": "execute_result"
    }
   ],
   "source": [
    "df_child_poverty.has_center.mean()  # county level center coverage rate"
   ]
  },
  {
   "cell_type": "markdown",
   "metadata": {},
   "source": [
    "##### <b>Metric: Enrollment Rate</b>\n",
    "- Definition: The number of children enrolled in the head start centers of a county divided by the estimated number of children in poverty in the same county. (Can also be calculated at other geospatial scope such as state level)\n",
    "- Usage: \n",
    "- - Shows how many community members are actually participating in the head start program in a county."
   ]
  },
  {
   "cell_type": "code",
   "execution_count": 254,
   "metadata": {},
   "outputs": [
    {
     "data": {
      "text/html": [
       "<div>\n",
       "<style scoped>\n",
       "    .dataframe tbody tr th:only-of-type {\n",
       "        vertical-align: middle;\n",
       "    }\n",
       "\n",
       "    .dataframe tbody tr th {\n",
       "        vertical-align: top;\n",
       "    }\n",
       "\n",
       "    .dataframe thead th {\n",
       "        text-align: right;\n",
       "    }\n",
       "</style>\n",
       "<table border=\"1\" class=\"dataframe\">\n",
       "  <thead>\n",
       "    <tr style=\"text-align: right;\">\n",
       "      <th></th>\n",
       "      <th>state_name</th>\n",
       "      <th>federal_funding</th>\n",
       "      <th>enrollment_count</th>\n",
       "      <th>state</th>\n",
       "      <th>rgdp</th>\n",
       "      <th>personal_income</th>\n",
       "      <th>fund_per_child</th>\n",
       "      <th>funding_index</th>\n",
       "    </tr>\n",
       "  </thead>\n",
       "  <tbody>\n",
       "    <tr>\n",
       "      <th>0</th>\n",
       "      <td>Alaska</td>\n",
       "      <td>20579547.000</td>\n",
       "      <td>1348</td>\n",
       "      <td>AK</td>\n",
       "      <td>50315.100</td>\n",
       "      <td>50349.700</td>\n",
       "      <td>15266.726</td>\n",
       "      <td>0.303</td>\n",
       "    </tr>\n",
       "    <tr>\n",
       "      <th>1</th>\n",
       "      <td>Alabama</td>\n",
       "      <td>156825889.000</td>\n",
       "      <td>13438</td>\n",
       "      <td>AL</td>\n",
       "      <td>235807.300</td>\n",
       "      <td>258362.200</td>\n",
       "      <td>11670.330</td>\n",
       "      <td>0.045</td>\n",
       "    </tr>\n",
       "    <tr>\n",
       "      <th>2</th>\n",
       "      <td>Arkansas</td>\n",
       "      <td>106372981.000</td>\n",
       "      <td>9191</td>\n",
       "      <td>AR</td>\n",
       "      <td>137355.500</td>\n",
       "      <td>160254.200</td>\n",
       "      <td>11573.603</td>\n",
       "      <td>0.072</td>\n",
       "    </tr>\n",
       "    <tr>\n",
       "      <th>3</th>\n",
       "      <td>Arizona</td>\n",
       "      <td>175213573.000</td>\n",
       "      <td>13054</td>\n",
       "      <td>AZ</td>\n",
       "      <td>403474.200</td>\n",
       "      <td>430083.500</td>\n",
       "      <td>13422.213</td>\n",
       "      <td>0.031</td>\n",
       "    </tr>\n",
       "    <tr>\n",
       "      <th>4</th>\n",
       "      <td>California</td>\n",
       "      <td>1320500737.000</td>\n",
       "      <td>87819</td>\n",
       "      <td>CA</td>\n",
       "      <td>3167460.800</td>\n",
       "      <td>3006647.300</td>\n",
       "      <td>15036.618</td>\n",
       "      <td>0.005</td>\n",
       "    </tr>\n",
       "  </tbody>\n",
       "</table>\n",
       "</div>"
      ],
      "text/plain": [
       "   state_name  federal_funding  enrollment_count state        rgdp  \\\n",
       "0      Alaska     20579547.000              1348    AK   50315.100   \n",
       "1     Alabama    156825889.000             13438    AL  235807.300   \n",
       "2    Arkansas    106372981.000              9191    AR  137355.500   \n",
       "3     Arizona    175213573.000             13054    AZ  403474.200   \n",
       "4  California   1320500737.000             87819    CA 3167460.800   \n",
       "\n",
       "   personal_income  fund_per_child  funding_index  \n",
       "0        50349.700       15266.726          0.303  \n",
       "1       258362.200       11670.330          0.045  \n",
       "2       160254.200       11573.603          0.072  \n",
       "3       430083.500       13422.213          0.031  \n",
       "4      3006647.300       15036.618          0.005  "
      ]
     },
     "execution_count": 254,
     "metadata": {},
     "output_type": "execute_result"
    }
   ],
   "source": [
    "df_headstart_fiscal.head()"
   ]
  },
  {
   "cell_type": "code",
   "execution_count": 255,
   "metadata": {},
   "outputs": [
    {
     "data": {
      "text/html": [
       "<div>\n",
       "<style scoped>\n",
       "    .dataframe tbody tr th:only-of-type {\n",
       "        vertical-align: middle;\n",
       "    }\n",
       "\n",
       "    .dataframe tbody tr th {\n",
       "        vertical-align: top;\n",
       "    }\n",
       "\n",
       "    .dataframe thead th {\n",
       "        text-align: right;\n",
       "    }\n",
       "</style>\n",
       "<table border=\"1\" class=\"dataframe\">\n",
       "  <thead>\n",
       "    <tr style=\"text-align: right;\">\n",
       "      <th></th>\n",
       "      <th>state</th>\n",
       "      <th>child_poverty_count</th>\n",
       "      <th>state_name</th>\n",
       "      <th>federal_funding</th>\n",
       "      <th>enrollment_count</th>\n",
       "      <th>rgdp</th>\n",
       "      <th>personal_income</th>\n",
       "      <th>fund_per_child</th>\n",
       "      <th>funding_index</th>\n",
       "      <th>enroll_rate</th>\n",
       "    </tr>\n",
       "  </thead>\n",
       "  <tbody>\n",
       "    <tr>\n",
       "      <th>31</th>\n",
       "      <td>NV</td>\n",
       "      <td>38827</td>\n",
       "      <td>Nevada</td>\n",
       "      <td>41621944.000</td>\n",
       "      <td>2937</td>\n",
       "      <td>187226.200</td>\n",
       "      <td>197290.900</td>\n",
       "      <td>14171.585</td>\n",
       "      <td>0.072</td>\n",
       "      <td>0.076</td>\n",
       "    </tr>\n",
       "    <tr>\n",
       "      <th>11</th>\n",
       "      <td>ID</td>\n",
       "      <td>19157</td>\n",
       "      <td>Idaho</td>\n",
       "      <td>38883862.000</td>\n",
       "      <td>2908</td>\n",
       "      <td>91683.700</td>\n",
       "      <td>109775.900</td>\n",
       "      <td>13371.342</td>\n",
       "      <td>0.122</td>\n",
       "      <td>0.152</td>\n",
       "    </tr>\n",
       "    <tr>\n",
       "      <th>2</th>\n",
       "      <td>AZ</td>\n",
       "      <td>83855</td>\n",
       "      <td>Arizona</td>\n",
       "      <td>175213573.000</td>\n",
       "      <td>13054</td>\n",
       "      <td>403474.200</td>\n",
       "      <td>430083.500</td>\n",
       "      <td>13422.213</td>\n",
       "      <td>0.031</td>\n",
       "      <td>0.156</td>\n",
       "    </tr>\n",
       "    <tr>\n",
       "      <th>8</th>\n",
       "      <td>GA</td>\n",
       "      <td>143901</td>\n",
       "      <td>Georgia</td>\n",
       "      <td>258763401.000</td>\n",
       "      <td>23259</td>\n",
       "      <td>655827.300</td>\n",
       "      <td>617553.000</td>\n",
       "      <td>11125.302</td>\n",
       "      <td>0.018</td>\n",
       "      <td>0.162</td>\n",
       "    </tr>\n",
       "    <tr>\n",
       "      <th>41</th>\n",
       "      <td>TX</td>\n",
       "      <td>414914</td>\n",
       "      <td>Texas</td>\n",
       "      <td>719676508.000</td>\n",
       "      <td>68467</td>\n",
       "      <td>1924007.500</td>\n",
       "      <td>1879419.600</td>\n",
       "      <td>10511.290</td>\n",
       "      <td>0.006</td>\n",
       "      <td>0.165</td>\n",
       "    </tr>\n",
       "  </tbody>\n",
       "</table>\n",
       "</div>"
      ],
      "text/plain": [
       "   state  child_poverty_count state_name  federal_funding  enrollment_count  \\\n",
       "31    NV                38827     Nevada     41621944.000              2937   \n",
       "11    ID                19157      Idaho     38883862.000              2908   \n",
       "2     AZ                83855    Arizona    175213573.000             13054   \n",
       "8     GA               143901    Georgia    258763401.000             23259   \n",
       "41    TX               414914      Texas    719676508.000             68467   \n",
       "\n",
       "          rgdp  personal_income  fund_per_child  funding_index  enroll_rate  \n",
       "31  187226.200       197290.900       14171.585          0.072        0.076  \n",
       "11   91683.700       109775.900       13371.342          0.122        0.152  \n",
       "2   403474.200       430083.500       13422.213          0.031        0.156  \n",
       "8   655827.300       617553.000       11125.302          0.018        0.162  \n",
       "41 1924007.500      1879419.600       10511.290          0.006        0.165  "
      ]
     },
     "execution_count": 255,
     "metadata": {},
     "output_type": "execute_result"
    }
   ],
   "source": [
    "df_state_child_poverty = df_child_poverty.groupby('state')['child_poverty_count'].sum().to_frame()\n",
    "df_state_child_poverty.reset_index(inplace=True)\n",
    "df_state_child_poverty = pd.merge(df_state_child_poverty, df_state_abbr, left_on='state',  right_on='Abbreviation', how='left').drop(columns=['Abbreviation'])\n",
    "col = df_state_child_poverty.columns.tolist()\n",
    "col[-1] = 'state_name'\n",
    "df_state_child_poverty.columns = col\n",
    "df_state_child_poverty = pd.merge(\n",
    "    df_state_child_poverty, df_headstart_fiscal, on='state', how='left', suffixes=('', '_headstart')).drop(columns=['state_name_headstart']\n",
    "    )\n",
    "df_state_child_poverty['enroll_rate'] = df_state_child_poverty.enrollment_count.astype(float) / df_state_child_poverty.child_poverty_count.astype(float)\n",
    "df_state_child_poverty.sort_values('enroll_rate', ascending=True).head()"
   ]
  },
  {
   "cell_type": "code",
   "execution_count": 256,
   "metadata": {},
   "outputs": [],
   "source": [
    "df_child_poverty.to_csv('child_poverty_merged_10-22.csv', index=False)\n",
    "df_state_child_poverty.to_csv('enroll_and_fund.csv', index=False)"
   ]
  },
  {
   "cell_type": "markdown",
   "metadata": {},
   "source": [
    "##### <b>Distribution of Children per Center</b>\n",
    "- Skewed to the right, meaning that there are few counties with abnormaly high figures of children per center. "
   ]
  },
  {
   "cell_type": "code",
   "execution_count": 257,
   "metadata": {},
   "outputs": [
    {
     "data": {
      "text/plain": [
       "<AxesSubplot:>"
      ]
     },
     "execution_count": 257,
     "metadata": {},
     "output_type": "execute_result"
    },
    {
     "data": {
      "image/png": "[encoded data removed]",
      "text/plain": [
       "<Figure size 640x480 with 1 Axes>"
      ]
     },
     "metadata": {},
     "output_type": "display_data"
    }
   ],
   "source": [
    "sns.boxplot(df_child_poverty['cpc'],)"
   ]
  },
  {
   "cell_type": "code",
   "execution_count": 258,
   "metadata": {},
   "outputs": [
    {
     "data": {
      "text/plain": [
       "count   2748.000\n",
       "mean     174.692\n",
       "std      202.530\n",
       "min        5.667\n",
       "25%       67.394\n",
       "50%      120.342\n",
       "75%      211.808\n",
       "max     4635.000\n",
       "Name: cpc, dtype: float64"
      ]
     },
     "execution_count": 258,
     "metadata": {},
     "output_type": "execute_result"
    }
   ],
   "source": [
    "df_child_poverty.cpc.describe()"
   ]
  },
  {
   "cell_type": "code",
   "execution_count": 259,
   "metadata": {},
   "outputs": [
    {
     "data": {
      "text/html": [
       "<div>\n",
       "<style scoped>\n",
       "    .dataframe tbody tr th:only-of-type {\n",
       "        vertical-align: middle;\n",
       "    }\n",
       "\n",
       "    .dataframe tbody tr th {\n",
       "        vertical-align: top;\n",
       "    }\n",
       "\n",
       "    .dataframe thead th {\n",
       "        text-align: right;\n",
       "    }\n",
       "</style>\n",
       "<table border=\"1\" class=\"dataframe\">\n",
       "  <thead>\n",
       "    <tr style=\"text-align: right;\">\n",
       "      <th></th>\n",
       "      <th>cpc</th>\n",
       "      <th>state</th>\n",
       "      <th>state_county</th>\n",
       "    </tr>\n",
       "  </thead>\n",
       "  <tbody>\n",
       "    <tr>\n",
       "      <th>2583</th>\n",
       "      <td>4635.000</td>\n",
       "      <td>TX</td>\n",
       "      <td>TX Denton County</td>\n",
       "    </tr>\n",
       "    <tr>\n",
       "      <th>2645</th>\n",
       "      <td>2693.000</td>\n",
       "      <td>TX</td>\n",
       "      <td>TX Jefferson County</td>\n",
       "    </tr>\n",
       "    <tr>\n",
       "      <th>2565</th>\n",
       "      <td>2543.000</td>\n",
       "      <td>TX</td>\n",
       "      <td>TX Collin County</td>\n",
       "    </tr>\n",
       "    <tr>\n",
       "      <th>419</th>\n",
       "      <td>2078.667</td>\n",
       "      <td>GA</td>\n",
       "      <td>GA Cobb County</td>\n",
       "    </tr>\n",
       "    <tr>\n",
       "      <th>1954</th>\n",
       "      <td>1857.000</td>\n",
       "      <td>NC</td>\n",
       "      <td>NC New Hanover County</td>\n",
       "    </tr>\n",
       "    <tr>\n",
       "      <th>453</th>\n",
       "      <td>1406.429</td>\n",
       "      <td>GA</td>\n",
       "      <td>GA Gwinnett County</td>\n",
       "    </tr>\n",
       "    <tr>\n",
       "      <th>1214</th>\n",
       "      <td>1383.000</td>\n",
       "      <td>MD</td>\n",
       "      <td>MD Wicomico County</td>\n",
       "    </tr>\n",
       "    <tr>\n",
       "      <th>455</th>\n",
       "      <td>1333.000</td>\n",
       "      <td>GA</td>\n",
       "      <td>GA Hall County</td>\n",
       "    </tr>\n",
       "    <tr>\n",
       "      <th>461</th>\n",
       "      <td>1331.500</td>\n",
       "      <td>GA</td>\n",
       "      <td>GA Henry County</td>\n",
       "    </tr>\n",
       "    <tr>\n",
       "      <th>2692</th>\n",
       "      <td>1287.000</td>\n",
       "      <td>TX</td>\n",
       "      <td>TX Montgomery County</td>\n",
       "    </tr>\n",
       "  </tbody>\n",
       "</table>\n",
       "</div>"
      ],
      "text/plain": [
       "          cpc state           state_county\n",
       "2583 4635.000    TX       TX Denton County\n",
       "2645 2693.000    TX    TX Jefferson County\n",
       "2565 2543.000    TX       TX Collin County\n",
       "419  2078.667    GA         GA Cobb County\n",
       "1954 1857.000    NC  NC New Hanover County\n",
       "453  1406.429    GA     GA Gwinnett County\n",
       "1214 1383.000    MD     MD Wicomico County\n",
       "455  1333.000    GA         GA Hall County\n",
       "461  1331.500    GA        GA Henry County\n",
       "2692 1287.000    TX   TX Montgomery County"
      ]
     },
     "execution_count": 259,
     "metadata": {},
     "output_type": "execute_result"
    }
   ],
   "source": [
    "df_child_poverty[['cpc','state', 'state_county']].sort_values(ascending=False, by='cpc' ).head(10)"
   ]
  },
  {
   "cell_type": "markdown",
   "metadata": {},
   "source": [
    "##### <b>Insight and Policy Suggestion</b>\n",
    "- As shown, there are many Head Start centers in Texas and Georgia that have abnormaly high child per center values.\n",
    "- Agencies and program managers may need to focus on those counties and states and try to provide more resource so as to serve the communities there."
   ]
  },
  {
   "cell_type": "markdown",
   "metadata": {},
   "source": [
    "##### <b>Distribution of Funding Index</b>\n",
    "- Skewed to the right, meaning that there are few states where the intensity of funding is significantly higher than all the other states."
   ]
  },
  {
   "cell_type": "code",
   "execution_count": 260,
   "metadata": {},
   "outputs": [
    {
     "data": {
      "text/plain": [
       "<AxesSubplot:>"
      ]
     },
     "execution_count": 260,
     "metadata": {},
     "output_type": "execute_result"
    },
    {
     "data": {
      "image/png": "[encoded data removed]",
      "text/plain": [
       "<Figure size 640x480 with 1 Axes>"
      ]
     },
     "metadata": {},
     "output_type": "display_data"
    }
   ],
   "source": [
    "df_headstart_fiscal.funding_index.plot.box()"
   ]
  },
  {
   "cell_type": "code",
   "execution_count": 261,
   "metadata": {},
   "outputs": [
    {
     "data": {
      "text/plain": [
       "count   51.000\n",
       "mean     0.085\n",
       "std      0.093\n",
       "min      0.005\n",
       "25%      0.025\n",
       "50%      0.044\n",
       "75%      0.115\n",
       "max      0.421\n",
       "Name: funding_index, dtype: float64"
      ]
     },
     "execution_count": 261,
     "metadata": {},
     "output_type": "execute_result"
    }
   ],
   "source": [
    "df_headstart_fiscal.funding_index.describe()"
   ]
  },
  {
   "cell_type": "markdown",
   "metadata": {},
   "source": [
    "##### <b>Insight and Policy Suggestion</b>\n",
    "- As shown, there are many Head Start centers in Texas and Georgia that have abnormaly high child per center values.\n",
    "- To better facilitate equity and accessibility, policy makers may consider to rebalance the current funding policy to reduce the difference of funding index across the states."
   ]
  },
  {
   "cell_type": "markdown",
   "metadata": {},
   "source": [
    "#### <b>An Econometric Model for the Relationship between Head Start Funding, Enrollment, and Income Level"
   ]
  },
  {
   "cell_type": "code",
   "execution_count": 262,
   "metadata": {},
   "outputs": [
    {
     "name": "stdout",
     "output_type": "stream",
     "text": [
      "r2: 0.9613741875288951, r2_adj: 0.9605859056417297\n",
      "[12952.71182254] -11489485.076242745\n"
     ]
    }
   ],
   "source": [
    "md = LinearRegression()\n",
    "X = df_headstart_fiscal[['enrollment_count']]\n",
    "y = df_headstart_fiscal.federal_funding\n",
    "md.fit(X, y)\n",
    "r2 = md.score(X, y)\n",
    "\n",
    "n = len(y)\n",
    "p = X.shape[1]\n",
    "r2_adj = 1 - (1 - r2) * (n - 1) / (n - p - 1)\n",
    "\n",
    "print(f'r2: {r2}, r2_adj: {r2_adj}')\n",
    "print(md.coef_, md.intercept_)"
   ]
  },
  {
   "cell_type": "code",
   "execution_count": 263,
   "metadata": {},
   "outputs": [
    {
     "name": "stdout",
     "output_type": "stream",
     "text": [
      "r2: 0.9728542678014624, r2_adj: 0.9717231956265234\n",
      "[8570.99031496  145.2116273 ] -8447785.96442923\n"
     ]
    }
   ],
   "source": [
    "md = LinearRegression()\n",
    "X = df_headstart_fiscal[['enrollment_count', 'personal_income']]\n",
    "y = df_headstart_fiscal.federal_funding\n",
    "md.fit(X, y)\n",
    "r2 = md.score(X, y)\n",
    "\n",
    "n = len(y)\n",
    "p = X.shape[1]\n",
    "r2_adj = 1 - (1 - r2) * (n - 1) / (n - p - 1)\n",
    "\n",
    "print(f'r2: {r2}, r2_adj: {r2_adj}')\n",
    "print(md.coef_, md.intercept_)"
   ]
  },
  {
   "cell_type": "markdown",
   "metadata": {},
   "source": [
    "- Enrollment alone can determine to a very large extent the funding received by a state.\n",
    "- Personal income can further improve the model's R2 score, showing significant impact on the funding. The positive coefficient of income also suggests that funding granted to each state were adjusted slightly based on local price level."
   ]
  },
  {
   "cell_type": "code",
   "execution_count": 264,
   "metadata": {},
   "outputs": [
    {
     "data": {
      "text/html": [
       "<div>\n",
       "<style scoped>\n",
       "    .dataframe tbody tr th:only-of-type {\n",
       "        vertical-align: middle;\n",
       "    }\n",
       "\n",
       "    .dataframe tbody tr th {\n",
       "        vertical-align: top;\n",
       "    }\n",
       "\n",
       "    .dataframe thead th {\n",
       "        text-align: right;\n",
       "    }\n",
       "</style>\n",
       "<table border=\"1\" class=\"dataframe\">\n",
       "  <thead>\n",
       "    <tr style=\"text-align: right;\">\n",
       "      <th></th>\n",
       "      <th>state_name</th>\n",
       "      <th>federal_funding</th>\n",
       "      <th>enrollment_count</th>\n",
       "      <th>state</th>\n",
       "      <th>rgdp</th>\n",
       "      <th>personal_income</th>\n",
       "      <th>fund_per_child</th>\n",
       "      <th>funding_index</th>\n",
       "    </tr>\n",
       "  </thead>\n",
       "  <tbody>\n",
       "    <tr>\n",
       "      <th>0</th>\n",
       "      <td>Alaska</td>\n",
       "      <td>20579547.000</td>\n",
       "      <td>1348</td>\n",
       "      <td>AK</td>\n",
       "      <td>50315.100</td>\n",
       "      <td>50349.700</td>\n",
       "      <td>15266.726</td>\n",
       "      <td>0.303</td>\n",
       "    </tr>\n",
       "    <tr>\n",
       "      <th>1</th>\n",
       "      <td>Alabama</td>\n",
       "      <td>156825889.000</td>\n",
       "      <td>13438</td>\n",
       "      <td>AL</td>\n",
       "      <td>235807.300</td>\n",
       "      <td>258362.200</td>\n",
       "      <td>11670.330</td>\n",
       "      <td>0.045</td>\n",
       "    </tr>\n",
       "    <tr>\n",
       "      <th>2</th>\n",
       "      <td>Arkansas</td>\n",
       "      <td>106372981.000</td>\n",
       "      <td>9191</td>\n",
       "      <td>AR</td>\n",
       "      <td>137355.500</td>\n",
       "      <td>160254.200</td>\n",
       "      <td>11573.603</td>\n",
       "      <td>0.072</td>\n",
       "    </tr>\n",
       "    <tr>\n",
       "      <th>3</th>\n",
       "      <td>Arizona</td>\n",
       "      <td>175213573.000</td>\n",
       "      <td>13054</td>\n",
       "      <td>AZ</td>\n",
       "      <td>403474.200</td>\n",
       "      <td>430083.500</td>\n",
       "      <td>13422.213</td>\n",
       "      <td>0.031</td>\n",
       "    </tr>\n",
       "    <tr>\n",
       "      <th>4</th>\n",
       "      <td>California</td>\n",
       "      <td>1320500737.000</td>\n",
       "      <td>87819</td>\n",
       "      <td>CA</td>\n",
       "      <td>3167460.800</td>\n",
       "      <td>3006647.300</td>\n",
       "      <td>15036.618</td>\n",
       "      <td>0.005</td>\n",
       "    </tr>\n",
       "  </tbody>\n",
       "</table>\n",
       "</div>"
      ],
      "text/plain": [
       "   state_name  federal_funding  enrollment_count state        rgdp  \\\n",
       "0      Alaska     20579547.000              1348    AK   50315.100   \n",
       "1     Alabama    156825889.000             13438    AL  235807.300   \n",
       "2    Arkansas    106372981.000              9191    AR  137355.500   \n",
       "3     Arizona    175213573.000             13054    AZ  403474.200   \n",
       "4  California   1320500737.000             87819    CA 3167460.800   \n",
       "\n",
       "   personal_income  fund_per_child  funding_index  \n",
       "0        50349.700       15266.726          0.303  \n",
       "1       258362.200       11670.330          0.045  \n",
       "2       160254.200       11573.603          0.072  \n",
       "3       430083.500       13422.213          0.031  \n",
       "4      3006647.300       15036.618          0.005  "
      ]
     },
     "execution_count": 264,
     "metadata": {},
     "output_type": "execute_result"
    }
   ],
   "source": [
    "df_headstart_fiscal.head()"
   ]
  },
  {
   "cell_type": "code",
   "execution_count": 265,
   "metadata": {},
   "outputs": [
    {
     "data": {
      "text/html": [
       "<div>\n",
       "<style scoped>\n",
       "    .dataframe tbody tr th:only-of-type {\n",
       "        vertical-align: middle;\n",
       "    }\n",
       "\n",
       "    .dataframe tbody tr th {\n",
       "        vertical-align: top;\n",
       "    }\n",
       "\n",
       "    .dataframe thead th {\n",
       "        text-align: right;\n",
       "    }\n",
       "</style>\n",
       "<table border=\"1\" class=\"dataframe\">\n",
       "  <thead>\n",
       "    <tr style=\"text-align: right;\">\n",
       "      <th></th>\n",
       "      <th>state</th>\n",
       "      <th>child_poverty_count</th>\n",
       "      <th>state_name</th>\n",
       "      <th>federal_funding</th>\n",
       "      <th>enrollment_count</th>\n",
       "      <th>rgdp</th>\n",
       "      <th>personal_income</th>\n",
       "      <th>fund_per_child</th>\n",
       "      <th>funding_index</th>\n",
       "      <th>enroll_rate</th>\n",
       "      <th>state_cpc</th>\n",
       "    </tr>\n",
       "  </thead>\n",
       "  <tbody>\n",
       "    <tr>\n",
       "      <th>0</th>\n",
       "      <td>AL</td>\n",
       "      <td>73733</td>\n",
       "      <td>Alabama</td>\n",
       "      <td>156825889.000</td>\n",
       "      <td>13438</td>\n",
       "      <td>235807.300</td>\n",
       "      <td>258362.200</td>\n",
       "      <td>11670.330</td>\n",
       "      <td>0.045</td>\n",
       "      <td>0.182</td>\n",
       "      <td>2822.401</td>\n",
       "    </tr>\n",
       "    <tr>\n",
       "      <th>1</th>\n",
       "      <td>AR</td>\n",
       "      <td>47630</td>\n",
       "      <td>Arkansas</td>\n",
       "      <td>106372981.000</td>\n",
       "      <td>9191</td>\n",
       "      <td>137355.500</td>\n",
       "      <td>160254.200</td>\n",
       "      <td>11573.603</td>\n",
       "      <td>0.072</td>\n",
       "      <td>0.193</td>\n",
       "      <td>2174.527</td>\n",
       "    </tr>\n",
       "    <tr>\n",
       "      <th>2</th>\n",
       "      <td>AZ</td>\n",
       "      <td>83855</td>\n",
       "      <td>Arizona</td>\n",
       "      <td>175213573.000</td>\n",
       "      <td>13054</td>\n",
       "      <td>403474.200</td>\n",
       "      <td>430083.500</td>\n",
       "      <td>13422.213</td>\n",
       "      <td>0.031</td>\n",
       "      <td>0.156</td>\n",
       "      <td>403.732</td>\n",
       "    </tr>\n",
       "    <tr>\n",
       "      <th>3</th>\n",
       "      <td>CA</td>\n",
       "      <td>369418</td>\n",
       "      <td>California</td>\n",
       "      <td>1320500737.000</td>\n",
       "      <td>87819</td>\n",
       "      <td>3167460.800</td>\n",
       "      <td>3006647.300</td>\n",
       "      <td>15036.618</td>\n",
       "      <td>0.005</td>\n",
       "      <td>0.238</td>\n",
       "      <td>2190.753</td>\n",
       "    </tr>\n",
       "    <tr>\n",
       "      <th>4</th>\n",
       "      <td>CO</td>\n",
       "      <td>44499</td>\n",
       "      <td>Colorado</td>\n",
       "      <td>119296359.000</td>\n",
       "      <td>9489</td>\n",
       "      <td>416114.400</td>\n",
       "      <td>442213.000</td>\n",
       "      <td>12572.069</td>\n",
       "      <td>0.028</td>\n",
       "      <td>0.213</td>\n",
       "      <td>1796.733</td>\n",
       "    </tr>\n",
       "  </tbody>\n",
       "</table>\n",
       "</div>"
      ],
      "text/plain": [
       "  state  child_poverty_count  state_name  federal_funding  enrollment_count  \\\n",
       "0    AL                73733     Alabama    156825889.000             13438   \n",
       "1    AR                47630    Arkansas    106372981.000              9191   \n",
       "2    AZ                83855     Arizona    175213573.000             13054   \n",
       "3    CA               369418  California   1320500737.000             87819   \n",
       "4    CO                44499    Colorado    119296359.000              9489   \n",
       "\n",
       "         rgdp  personal_income  fund_per_child  funding_index  enroll_rate  \\\n",
       "0  235807.300       258362.200       11670.330          0.045        0.182   \n",
       "1  137355.500       160254.200       11573.603          0.072        0.193   \n",
       "2  403474.200       430083.500       13422.213          0.031        0.156   \n",
       "3 3167460.800      3006647.300       15036.618          0.005        0.238   \n",
       "4  416114.400       442213.000       12572.069          0.028        0.213   \n",
       "\n",
       "   state_cpc  \n",
       "0   2822.401  \n",
       "1   2174.527  \n",
       "2    403.732  \n",
       "3   2190.753  \n",
       "4   1796.733  "
      ]
     },
     "execution_count": 265,
     "metadata": {},
     "output_type": "execute_result"
    }
   ],
   "source": [
    "df_foo = pd.merge(df_state_child_poverty, df_child_poverty.groupby('state')['state_cpc'].sum().to_frame(), on='state', how='right')\n",
    "df_foo.head()"
   ]
  },
  {
   "cell_type": "code",
   "execution_count": 266,
   "metadata": {},
   "outputs": [
    {
     "data": {
      "application/vnd.plotly.v1+json": {
       "config": {
        "plotlyServerURL": "https://plot.ly"
       },
       "data": [
        {
         "hovertemplate": "color=AL<br>x=%{x}<br>y=%{y}<br>z=%{z}<extra></extra>",
         "legendgroup": "AL",
         "marker": {
          "color": "#636efa",
          "symbol": "circle"
         },
         "mode": "markers",
         "name": "AL",
         "scene": "scene",
         "showlegend": true,
         "type": "scatter3d",
         "x": [
          2822.40113
         ],
         "y": [
          0.18225218016356312
         ],
         "z": [
          0.045170421941507964
         ]
        },
        {
         "hovertemplate": "color=AR<br>x=%{x}<br>y=%{y}<br>z=%{z}<extra></extra>",
         "legendgroup": "AR",
         "marker": {
          "color": "#EF553B",
          "symbol": "circle"
         },
         "mode": "markers",
         "name": "AR",
         "scene": "scene",
         "showlegend": true,
         "type": "scatter3d",
         "x": [
          2174.52675
         ],
         "y": [
          0.19296661767793408
         ],
         "z": [
          0.0722202759488917
         ]
        },
        {
         "hovertemplate": "color=AZ<br>x=%{x}<br>y=%{y}<br>z=%{z}<extra></extra>",
         "legendgroup": "AZ",
         "marker": {
          "color": "#00cc96",
          "symbol": "circle"
         },
         "mode": "markers",
         "name": "AZ",
         "scene": "scene",
         "showlegend": true,
         "type": "scatter3d",
         "x": [
          403.7319
         ],
         "y": [
          0.1556734839902212
         ],
         "z": [
          0.031208389404775386
         ]
        },
        {
         "hovertemplate": "color=CA<br>x=%{x}<br>y=%{y}<br>z=%{z}<extra></extra>",
         "legendgroup": "CA",
         "marker": {
          "color": "#ab63fa",
          "symbol": "circle"
         },
         "mode": "markers",
         "name": "CA",
         "scene": "scene",
         "showlegend": true,
         "type": "scatter3d",
         "x": [
          2190.75338
         ],
         "y": [
          0.23772257984180523
         ],
         "z": [
          0.005001124602153684
         ]
        },
        {
         "hovertemplate": "color=CO<br>x=%{x}<br>y=%{y}<br>z=%{z}<extra></extra>",
         "legendgroup": "CO",
         "marker": {
          "color": "#FFA15A",
          "symbol": "circle"
         },
         "mode": "markers",
         "name": "CO",
         "scene": "scene",
         "showlegend": true,
         "type": "scatter3d",
         "x": [
          1796.73344
         ],
         "y": [
          0.21324074698307827
         ],
         "z": [
          0.02842989375200193
         ]
        },
        {
         "hovertemplate": "color=CT<br>x=%{x}<br>y=%{y}<br>z=%{z}<extra></extra>",
         "legendgroup": "CT",
         "marker": {
          "color": "#19d3f3",
          "symbol": "circle"
         },
         "mode": "markers",
         "name": "CT",
         "scene": "scene",
         "showlegend": true,
         "type": "scatter3d",
         "x": [
          421.50944
         ],
         "y": [
          0.20980465815176558
         ],
         "z": [
          0.043546147318267774
         ]
        },
        {
         "hovertemplate": "color=DE<br>x=%{x}<br>y=%{y}<br>z=%{z}<extra></extra>",
         "legendgroup": "DE",
         "marker": {
          "color": "#FF6692",
          "symbol": "circle"
         },
         "mode": "markers",
         "name": "DE",
         "scene": "scene",
         "showlegend": true,
         "type": "scatter3d",
         "x": [
          157.57896
         ],
         "y": [
          0.19401244167962675
         ],
         "z": [
          0.16765735157514788
         ]
        },
        {
         "hovertemplate": "color=FL<br>x=%{x}<br>y=%{y}<br>z=%{z}<extra></extra>",
         "legendgroup": "FL",
         "marker": {
          "color": "#B6E880",
          "symbol": "circle"
         },
         "mode": "markers",
         "name": "FL",
         "scene": "scene",
         "showlegend": true,
         "type": "scatter3d",
         "x": [
          2664.07611
         ],
         "y": [
          0.17561381425068273
         ],
         "z": [
          0.007612267895548336
         ]
        },
        {
         "hovertemplate": "color=GA<br>x=%{x}<br>y=%{y}<br>z=%{z}<extra></extra>",
         "legendgroup": "GA",
         "marker": {
          "color": "#FF97FF",
          "symbol": "circle"
         },
         "mode": "markers",
         "name": "GA",
         "scene": "scene",
         "showlegend": true,
         "type": "scatter3d",
         "x": [
          8092.30023
         ],
         "y": [
          0.16163195530260388
         ],
         "z": [
          0.018015137286379473
         ]
        },
        {
         "hovertemplate": "color=HI<br>x=%{x}<br>y=%{y}<br>z=%{z}<extra></extra>",
         "legendgroup": "HI",
         "marker": {
          "color": "#FECB52",
          "symbol": "circle"
         },
         "mode": "markers",
         "name": "HI",
         "scene": "scene",
         "showlegend": true,
         "type": "scatter3d",
         "x": [
          112.03808
         ],
         "y": [
          0.25611773926674214
         ],
         "z": [
          0.12228031444249071
         ]
        },
        {
         "hovertemplate": "color=IA<br>x=%{x}<br>y=%{y}<br>z=%{z}<extra></extra>",
         "legendgroup": "IA",
         "marker": {
          "color": "#636efa",
          "symbol": "circle"
         },
         "mode": "markers",
         "name": "IA",
         "scene": "scene",
         "showlegend": true,
         "type": "scatter3d",
         "x": [
          2620.93293
         ],
         "y": [
          0.25908876726231467
         ],
         "z": [
          0.05855051270625992
         ]
        },
        {
         "hovertemplate": "color=ID<br>x=%{x}<br>y=%{y}<br>z=%{z}<extra></extra>",
         "legendgroup": "ID",
         "marker": {
          "color": "#EF553B",
          "symbol": "circle"
         },
         "mode": "markers",
         "name": "ID",
         "scene": "scene",
         "showlegend": true,
         "type": "scatter3d",
         "x": [
          1266.85152
         ],
         "y": [
          0.15179829827217206
         ],
         "z": [
          0.12180580451338481
         ]
        },
        {
         "hovertemplate": "color=IL<br>x=%{x}<br>y=%{y}<br>z=%{z}<extra></extra>",
         "legendgroup": "IL",
         "marker": {
          "color": "#00cc96",
          "symbol": "circle"
         },
         "mode": "markers",
         "name": "IL",
         "scene": "scene",
         "showlegend": true,
         "type": "scatter3d",
         "x": [
          3877.1985
         ],
         "y": [
          0.2274499082138812
         ],
         "z": [
          0.016575884925304315
         ]
        },
        {
         "hovertemplate": "color=IN<br>x=%{x}<br>y=%{y}<br>z=%{z}<extra></extra>",
         "legendgroup": "IN",
         "marker": {
          "color": "#ab63fa",
          "symbol": "circle"
         },
         "mode": "markers",
         "name": "IN",
         "scene": "scene",
         "showlegend": true,
         "type": "scatter3d",
         "x": [
          3777.39852
         ],
         "y": [
          0.18031145566965676
         ],
         "z": [
          0.03029786920030101
         ]
        },
        {
         "hovertemplate": "color=KS<br>x=%{x}<br>y=%{y}<br>z=%{z}<extra></extra>",
         "legendgroup": "KS",
         "marker": {
          "color": "#FFA15A",
          "symbol": "circle"
         },
         "mode": "markers",
         "name": "KS",
         "scene": "scene",
         "showlegend": true,
         "type": "scatter3d",
         "x": [
          3504.63225
         ],
         "y": [
          0.22084198235599378
         ],
         "z": [
          0.0661756142312554
         ]
        },
        {
         "hovertemplate": "color=KY<br>x=%{x}<br>y=%{y}<br>z=%{z}<extra></extra>",
         "legendgroup": "KY",
         "marker": {
          "color": "#19d3f3",
          "symbol": "circle"
         },
         "mode": "markers",
         "name": "KY",
         "scene": "scene",
         "showlegend": true,
         "type": "scatter3d",
         "x": [
          3785.4539999999997
         ],
         "y": [
          0.2276451293004806
         ],
         "z": [
          0.051777334310640105
         ]
        },
        {
         "hovertemplate": "color=LA<br>x=%{x}<br>y=%{y}<br>z=%{z}<extra></extra>",
         "legendgroup": "LA",
         "marker": {
          "color": "#FF6692",
          "symbol": "circle"
         },
         "mode": "markers",
         "name": "LA",
         "scene": "scene",
         "showlegend": true,
         "type": "scatter3d",
         "x": [
          2982.14784
         ],
         "y": [
          0.2433711092605332
         ],
         "z": [
          0.04161447181084342
         ]
        },
        {
         "hovertemplate": "color=MA<br>x=%{x}<br>y=%{y}<br>z=%{z}<extra></extra>",
         "legendgroup": "MA",
         "marker": {
          "color": "#B6E880",
          "symbol": "circle"
         },
         "mode": "markers",
         "name": "MA",
         "scene": "scene",
         "showlegend": true,
         "type": "scatter3d",
         "x": [
          747.67742
         ],
         "y": [
          0.23746004425866732
         ],
         "z": [
          0.02371331597443854
         ]
        },
        {
         "hovertemplate": "color=MD<br>x=%{x}<br>y=%{y}<br>z=%{z}<extra></extra>",
         "legendgroup": "MD",
         "marker": {
          "color": "#FF97FF",
          "symbol": "circle"
         },
         "mode": "markers",
         "name": "MD",
         "scene": "scene",
         "showlegend": true,
         "type": "scatter3d",
         "x": [
          859.4145500000001
         ],
         "y": [
          0.2113394951027728
         ],
         "z": [
          0.030449972082147204
         ]
        },
        {
         "hovertemplate": "color=ME<br>x=%{x}<br>y=%{y}<br>z=%{z}<extra></extra>",
         "legendgroup": "ME",
         "marker": {
          "color": "#FECB52",
          "symbol": "circle"
         },
         "mode": "markers",
         "name": "ME",
         "scene": "scene",
         "showlegend": true,
         "type": "scatter3d",
         "x": [
          311.2632
         ],
         "y": [
          0.29110061035636936
         ],
         "z": [
          0.17359951240661547
         ]
        },
        {
         "hovertemplate": "color=MI<br>x=%{x}<br>y=%{y}<br>z=%{z}<extra></extra>",
         "legendgroup": "MI",
         "marker": {
          "color": "#636efa",
          "symbol": "circle"
         },
         "mode": "markers",
         "name": "MI",
         "scene": "scene",
         "showlegend": true,
         "type": "scatter3d",
         "x": [
          3139.21355
         ],
         "y": [
          0.2582647380058073
         ],
         "z": [
          0.02207229717662749
         ]
        },
        {
         "hovertemplate": "color=MN<br>x=%{x}<br>y=%{y}<br>z=%{z}<extra></extra>",
         "legendgroup": "MN",
         "marker": {
          "color": "#EF553B",
          "symbol": "circle"
         },
         "mode": "markers",
         "name": "MN",
         "scene": "scene",
         "showlegend": true,
         "type": "scatter3d",
         "x": [
          2467.1033700000003
         ],
         "y": [
          0.25759536864895394
         ],
         "z": [
          0.029223151033878927
         ]
        },
        {
         "hovertemplate": "color=MO<br>x=%{x}<br>y=%{y}<br>z=%{z}<extra></extra>",
         "legendgroup": "MO",
         "marker": {
          "color": "#00cc96",
          "symbol": "circle"
         },
         "mode": "markers",
         "name": "MO",
         "scene": "scene",
         "showlegend": true,
         "type": "scatter3d",
         "x": [
          3411.66432
         ],
         "y": [
          0.21781868269471574
         ],
         "z": [
          0.037541252725034106
         ]
        },
        {
         "hovertemplate": "color=MS<br>x=%{x}<br>y=%{y}<br>z=%{z}<extra></extra>",
         "legendgroup": "MS",
         "marker": {
          "color": "#ab63fa",
          "symbol": "circle"
         },
         "mode": "markers",
         "name": "MS",
         "scene": "scene",
         "showlegend": true,
         "type": "scatter3d",
         "x": [
          4778.98624
         ],
         "y": [
          0.4030270834498313
         ],
         "z": [
          0.07652911011092534
         ]
        },
        {
         "hovertemplate": "color=MT<br>x=%{x}<br>y=%{y}<br>z=%{z}<extra></extra>",
         "legendgroup": "MT",
         "marker": {
          "color": "#FFA15A",
          "symbol": "circle"
         },
         "mode": "markers",
         "name": "MT",
         "scene": "scene",
         "showlegend": true,
         "type": "scatter3d",
         "x": [
          1555.2000799999998
         ],
         "y": [
          0.26957566793011
         ],
         "z": [
          0.1866300246437616
         ]
        },
        {
         "hovertemplate": "color=NC<br>x=%{x}<br>y=%{y}<br>z=%{z}<extra></extra>",
         "legendgroup": "NC",
         "marker": {
          "color": "#19d3f3",
          "symbol": "circle"
         },
         "mode": "markers",
         "name": "NC",
         "scene": "scene",
         "showlegend": true,
         "type": "scatter3d",
         "x": [
          3813.5530000000003
         ],
         "y": [
          0.16790581404725424
         ],
         "z": [
          0.018838864098466163
         ]
        },
        {
         "hovertemplate": "color=ND<br>x=%{x}<br>y=%{y}<br>z=%{z}<extra></extra>",
         "legendgroup": "ND",
         "marker": {
          "color": "#FF6692",
          "symbol": "circle"
         },
         "mode": "markers",
         "name": "ND",
         "scene": "scene",
         "showlegend": true,
         "type": "scatter3d",
         "x": [
          1484.79129
         ],
         "y": [
          0.26189479559090273
         ],
         "z": [
          0.24306385034413672
         ]
        },
        {
         "hovertemplate": "color=NE<br>x=%{x}<br>y=%{y}<br>z=%{z}<extra></extra>",
         "legendgroup": "NE",
         "marker": {
          "color": "#B6E880",
          "symbol": "circle"
         },
         "mode": "markers",
         "name": "NE",
         "scene": "scene",
         "showlegend": true,
         "type": "scatter3d",
         "x": [
          2416.51572
         ],
         "y": [
          0.26202864345867083
         ],
         "z": [
          0.09949913369005549
         ]
        },
        {
         "hovertemplate": "color=NH<br>x=%{x}<br>y=%{y}<br>z=%{z}<extra></extra>",
         "legendgroup": "NH",
         "marker": {
          "color": "#FF97FF",
          "symbol": "circle"
         },
         "mode": "markers",
         "name": "NH",
         "scene": "scene",
         "showlegend": true,
         "type": "scatter3d",
         "x": [
          310.4082
         ],
         "y": [
          0.2276605298607993
         ],
         "z": [
          0.13414782472716671
         ]
        },
        {
         "hovertemplate": "color=NJ<br>x=%{x}<br>y=%{y}<br>z=%{z}<extra></extra>",
         "legendgroup": "NJ",
         "marker": {
          "color": "#FECB52",
          "symbol": "circle"
         },
         "mode": "markers",
         "name": "NJ",
         "scene": "scene",
         "showlegend": true,
         "type": "scatter3d",
         "x": [
          1161.61962
         ],
         "y": [
          0.18500072706121856
         ],
         "z": [
          0.01776341042736013
         ]
        },
        {
         "hovertemplate": "color=NM<br>x=%{x}<br>y=%{y}<br>z=%{z}<extra></extra>",
         "legendgroup": "NM",
         "marker": {
          "color": "#636efa",
          "symbol": "circle"
         },
         "mode": "markers",
         "name": "NM",
         "scene": "scene",
         "showlegend": true,
         "type": "scatter3d",
         "x": [
          785.1472
         ],
         "y": [
          0.21993708351655786
         ],
         "z": [
          0.10865386087743939
         ]
        },
        {
         "hovertemplate": "color=NV<br>x=%{x}<br>y=%{y}<br>z=%{z}<extra></extra>",
         "legendgroup": "NV",
         "marker": {
          "color": "#EF553B",
          "symbol": "circle"
         },
         "mode": "markers",
         "name": "NV",
         "scene": "scene",
         "showlegend": true,
         "type": "scatter3d",
         "x": [
          661.8592
         ],
         "y": [
          0.07564323795297087
         ],
         "z": [
          0.07183090862349155
         ]
        },
        {
         "hovertemplate": "color=NY<br>x=%{x}<br>y=%{y}<br>z=%{z}<extra></extra>",
         "legendgroup": "NY",
         "marker": {
          "color": "#00cc96",
          "symbol": "circle"
         },
         "mode": "markers",
         "name": "NY",
         "scene": "scene",
         "showlegend": true,
         "type": "scatter3d",
         "x": [
          3103.4366600000003
         ],
         "y": [
          0.20896937904997004
         ],
         "z": [
          0.009169979833221865
         ]
        },
        {
         "hovertemplate": "color=OH<br>x=%{x}<br>y=%{y}<br>z=%{z}<extra></extra>",
         "legendgroup": "OH",
         "marker": {
          "color": "#ab63fa",
          "symbol": "circle"
         },
         "mode": "markers",
         "name": "OH",
         "scene": "scene",
         "showlegend": true,
         "type": "scatter3d",
         "x": [
          3464.1420000000003
         ],
         "y": [
          0.22901566518587796
         ],
         "z": [
          0.01695726622628423
         ]
        },
        {
         "hovertemplate": "color=OK<br>x=%{x}<br>y=%{y}<br>z=%{z}<extra></extra>",
         "legendgroup": "OK",
         "marker": {
          "color": "#FFA15A",
          "symbol": "circle"
         },
         "mode": "markers",
         "name": "OK",
         "scene": "scene",
         "showlegend": true,
         "type": "scatter3d",
         "x": [
          2140.831
         ],
         "y": [
          0.21504165355504398
         ],
         "z": [
          0.04684047880330288
         ]
        },
        {
         "hovertemplate": "color=OR<br>x=%{x}<br>y=%{y}<br>z=%{z}<extra></extra>",
         "legendgroup": "OR",
         "marker": {
          "color": "#19d3f3",
          "symbol": "circle"
         },
         "mode": "markers",
         "name": "OR",
         "scene": "scene",
         "showlegend": true,
         "type": "scatter3d",
         "x": [
          1166.7438000000002
         ],
         "y": [
          0.37634941938495653
         ],
         "z": [
          0.03091343697913492
         ]
        },
        {
         "hovertemplate": "color=PA<br>x=%{x}<br>y=%{y}<br>z=%{z}<extra></extra>",
         "legendgroup": "PA",
         "marker": {
          "color": "#FF6692",
          "symbol": "circle"
         },
         "mode": "markers",
         "name": "PA",
         "scene": "scene",
         "showlegend": true,
         "type": "scatter3d",
         "x": [
          2409.23826
         ],
         "y": [
          0.28160402518927785
         ],
         "z": [
          0.012023521805181717
         ]
        },
        {
         "hovertemplate": "color=RI<br>x=%{x}<br>y=%{y}<br>z=%{z}<extra></extra>",
         "legendgroup": "RI",
         "marker": {
          "color": "#B6E880",
          "symbol": "circle"
         },
         "mode": "markers",
         "name": "RI",
         "scene": "scene",
         "showlegend": true,
         "type": "scatter3d",
         "x": [
          182.53520000000003
         ],
         "y": [
          0.2540678298372868
         ],
         "z": [
          0.19041957734295056
         ]
        },
        {
         "hovertemplate": "color=SC<br>x=%{x}<br>y=%{y}<br>z=%{z}<extra></extra>",
         "legendgroup": "SC",
         "marker": {
          "color": "#FF97FF",
          "symbol": "circle"
         },
         "mode": "markers",
         "name": "SC",
         "scene": "scene",
         "showlegend": true,
         "type": "scatter3d",
         "x": [
          2322.33208
         ],
         "y": [
          0.19534711964549484
         ],
         "z": [
          0.038461538365559045
         ]
        },
        {
         "hovertemplate": "color=SD<br>x=%{x}<br>y=%{y}<br>z=%{z}<extra></extra>",
         "legendgroup": "SD",
         "marker": {
          "color": "#FECB52",
          "symbol": "circle"
         },
         "mode": "markers",
         "name": "SD",
         "scene": "scene",
         "showlegend": true,
         "type": "scatter3d",
         "x": [
          1250.6734499999998
         ],
         "y": [
          0.2831350448758088
         ],
         "z": [
          0.16964107888071653
         ]
        },
        {
         "hovertemplate": "color=TN<br>x=%{x}<br>y=%{y}<br>z=%{z}<extra></extra>",
         "legendgroup": "TN",
         "marker": {
          "color": "#636efa",
          "symbol": "circle"
         },
         "mode": "markers",
         "name": "TN",
         "scene": "scene",
         "showlegend": true,
         "type": "scatter3d",
         "x": [
          3345.2996
         ],
         "y": [
          0.20454263373464068
         ],
         "z": [
          0.026883760031000875
         ]
        },
        {
         "hovertemplate": "color=TX<br>x=%{x}<br>y=%{y}<br>z=%{z}<extra></extra>",
         "legendgroup": "TX",
         "marker": {
          "color": "#EF553B",
          "symbol": "circle"
         },
         "mode": "markers",
         "name": "TX",
         "scene": "scene",
         "showlegend": true,
         "type": "scatter3d",
         "x": [
          12611.0365
         ],
         "y": [
          0.16501491875424787
         ],
         "z": [
          0.005592838463219616
         ]
        },
        {
         "hovertemplate": "color=UT<br>x=%{x}<br>y=%{y}<br>z=%{z}<extra></extra>",
         "legendgroup": "UT",
         "marker": {
          "color": "#00cc96",
          "symbol": "circle"
         },
         "mode": "markers",
         "name": "UT",
         "scene": "scene",
         "showlegend": true,
         "type": "scatter3d",
         "x": [
          932.91811
         ],
         "y": [
          0.20887758201701093
         ],
         "z": [
          0.06718059419925049
         ]
        },
        {
         "hovertemplate": "color=VA<br>x=%{x}<br>y=%{y}<br>z=%{z}<extra></extra>",
         "legendgroup": "VA",
         "marker": {
          "color": "#ab63fa",
          "symbol": "circle"
         },
         "mode": "markers",
         "name": "VA",
         "scene": "scene",
         "showlegend": true,
         "type": "scatter3d",
         "x": [
          3060.7195
         ],
         "y": [
          0.3260236664162284
         ],
         "z": [
          0.018268442341874813
         ]
        },
        {
         "hovertemplate": "color=VT<br>x=%{x}<br>y=%{y}<br>z=%{z}<extra></extra>",
         "legendgroup": "VT",
         "marker": {
          "color": "#FFA15A",
          "symbol": "circle"
         },
         "mode": "markers",
         "name": "VT",
         "scene": "scene",
         "showlegend": true,
         "type": "scatter3d",
         "x": [
          248.32500000000002
         ],
         "y": [
          0.3789052069425901
         ],
         "z": [
          0.4210734876432928
         ]
        },
        {
         "hovertemplate": "color=WA<br>x=%{x}<br>y=%{y}<br>z=%{z}<extra></extra>",
         "legendgroup": "WA",
         "marker": {
          "color": "#19d3f3",
          "symbol": "circle"
         },
         "mode": "markers",
         "name": "WA",
         "scene": "scene",
         "showlegend": true,
         "type": "scatter3d",
         "x": [
          1081.23132
         ],
         "y": [
          0.18422096598234652
         ],
         "z": [
          0.026738674054218856
         ]
        },
        {
         "hovertemplate": "color=WI<br>x=%{x}<br>y=%{y}<br>z=%{z}<extra></extra>",
         "legendgroup": "WI",
         "marker": {
          "color": "#FF6692",
          "symbol": "circle"
         },
         "mode": "markers",
         "name": "WI",
         "scene": "scene",
         "showlegend": true,
         "type": "scatter3d",
         "x": [
          2553.2611199999997
         ],
         "y": [
          0.26574622762538946
         ],
         "z": [
          0.032026933067210245
         ]
        },
        {
         "hovertemplate": "color=WV<br>x=%{x}<br>y=%{y}<br>z=%{z}<extra></extra>",
         "legendgroup": "WV",
         "marker": {
          "color": "#B6E880",
          "symbol": "circle"
         },
         "mode": "markers",
         "name": "WV",
         "scene": "scene",
         "showlegend": true,
         "type": "scatter3d",
         "x": [
          1014.9056499999999
         ],
         "y": [
          0.35094644298914507
         ],
         "z": [
          0.1083052502079782
         ]
        },
        {
         "hovertemplate": "color=WY<br>x=%{x}<br>y=%{y}<br>z=%{z}<extra></extra>",
         "legendgroup": "WY",
         "marker": {
          "color": "#FF97FF",
          "symbol": "circle"
         },
         "mode": "markers",
         "name": "WY",
         "scene": "scene",
         "showlegend": true,
         "type": "scatter3d",
         "x": [
          614.1851
         ],
         "y": [
          0.28032659409020216
         ],
         "z": [
          0.3446890686684249
         ]
        }
       ],
       "layout": {
        "legend": {
         "title": {
          "text": "color"
         },
         "tracegroupgap": 0
        },
        "margin": {
         "t": 60
        },
        "scene": {
         "domain": {
          "x": [
           0,
           1
          ],
          "y": [
           0,
           1
          ]
         },
         "xaxis": {
          "title": {
           "text": "state cpc"
          }
         },
         "yaxis": {
          "title": {
           "text": "enroll rate"
          }
         },
         "zaxis": {
          "title": {
           "text": "funding index"
          }
         }
        },
        "template": {
         "data": {
          "bar": [
           {
            "error_x": {
             "color": "#2a3f5f"
            },
            "error_y": {
             "color": "#2a3f5f"
            },
            "marker": {
             "line": {
              "color": "#E5ECF6",
              "width": 0.5
             },
             "pattern": {
              "fillmode": "overlay",
              "size": 10,
              "solidity": 0.2
             }
            },
            "type": "bar"
           }
          ],
          "barpolar": [
           {
            "marker": {
             "line": {
              "color": "#E5ECF6",
              "width": 0.5
             },
             "pattern": {
              "fillmode": "overlay",
              "size": 10,
              "solidity": 0.2
             }
            },
            "type": "barpolar"
           }
          ],
          "carpet": [
           {
            "aaxis": {
             "endlinecolor": "#2a3f5f",
             "gridcolor": "white",
             "linecolor": "white",
             "minorgridcolor": "white",
             "startlinecolor": "#2a3f5f"
            },
            "baxis": {
             "endlinecolor": "#2a3f5f",
             "gridcolor": "white",
             "linecolor": "white",
             "minorgridcolor": "white",
             "startlinecolor": "#2a3f5f"
            },
            "type": "carpet"
           }
          ],
          "choropleth": [
           {
            "colorbar": {
             "outlinewidth": 0,
             "ticks": ""
            },
            "type": "choropleth"
           }
          ],
          "contour": [
           {
            "colorbar": {
             "outlinewidth": 0,
             "ticks": ""
            },
            "colorscale": [
             [
              0,
              "#0d0887"
             ],
             [
              0.1111111111111111,
              "#46039f"
             ],
             [
              0.2222222222222222,
              "#7201a8"
             ],
             [
              0.3333333333333333,
              "#9c179e"
             ],
             [
              0.4444444444444444,
              "#bd3786"
             ],
             [
              0.5555555555555556,
              "#d8576b"
             ],
             [
              0.6666666666666666,
              "#ed7953"
             ],
             [
              0.7777777777777778,
              "#fb9f3a"
             ],
             [
              0.8888888888888888,
              "#fdca26"
             ],
             [
              1,
              "#f0f921"
             ]
            ],
            "type": "contour"
           }
          ],
          "contourcarpet": [
           {
            "colorbar": {
             "outlinewidth": 0,
             "ticks": ""
            },
            "type": "contourcarpet"
           }
          ],
          "heatmap": [
           {
            "colorbar": {
             "outlinewidth": 0,
             "ticks": ""
            },
            "colorscale": [
             [
              0,
              "#0d0887"
             ],
             [
              0.1111111111111111,
              "#46039f"
             ],
             [
              0.2222222222222222,
              "#7201a8"
             ],
             [
              0.3333333333333333,
              "#9c179e"
             ],
             [
              0.4444444444444444,
              "#bd3786"
             ],
             [
              0.5555555555555556,
              "#d8576b"
             ],
             [
              0.6666666666666666,
              "#ed7953"
             ],
             [
              0.7777777777777778,
              "#fb9f3a"
             ],
             [
              0.8888888888888888,
              "#fdca26"
             ],
             [
              1,
              "#f0f921"
             ]
            ],
            "type": "heatmap"
           }
          ],
          "heatmapgl": [
           {
            "colorbar": {
             "outlinewidth": 0,
             "ticks": ""
            },
            "colorscale": [
             [
              0,
              "#0d0887"
             ],
             [
              0.1111111111111111,
              "#46039f"
             ],
             [
              0.2222222222222222,
              "#7201a8"
             ],
             [
              0.3333333333333333,
              "#9c179e"
             ],
             [
              0.4444444444444444,
              "#bd3786"
             ],
             [
              0.5555555555555556,
              "#d8576b"
             ],
             [
              0.6666666666666666,
              "#ed7953"
             ],
             [
              0.7777777777777778,
              "#fb9f3a"
             ],
             [
              0.8888888888888888,
              "#fdca26"
             ],
             [
              1,
              "#f0f921"
             ]
            ],
            "type": "heatmapgl"
           }
          ],
          "histogram": [
           {
            "marker": {
             "pattern": {
              "fillmode": "overlay",
              "size": 10,
              "solidity": 0.2
             }
            },
            "type": "histogram"
           }
          ],
          "histogram2d": [
           {
            "colorbar": {
             "outlinewidth": 0,
             "ticks": ""
            },
            "colorscale": [
             [
              0,
              "#0d0887"
             ],
             [
              0.1111111111111111,
              "#46039f"
             ],
             [
              0.2222222222222222,
              "#7201a8"
             ],
             [
              0.3333333333333333,
              "#9c179e"
             ],
             [
              0.4444444444444444,
              "#bd3786"
             ],
             [
              0.5555555555555556,
              "#d8576b"
             ],
             [
              0.6666666666666666,
              "#ed7953"
             ],
             [
              0.7777777777777778,
              "#fb9f3a"
             ],
             [
              0.8888888888888888,
              "#fdca26"
             ],
             [
              1,
              "#f0f921"
             ]
            ],
            "type": "histogram2d"
           }
          ],
          "histogram2dcontour": [
           {
            "colorbar": {
             "outlinewidth": 0,
             "ticks": ""
            },
            "colorscale": [
             [
              0,
              "#0d0887"
             ],
             [
              0.1111111111111111,
              "#46039f"
             ],
             [
              0.2222222222222222,
              "#7201a8"
             ],
             [
              0.3333333333333333,
              "#9c179e"
             ],
             [
              0.4444444444444444,
              "#bd3786"
             ],
             [
              0.5555555555555556,
              "#d8576b"
             ],
             [
              0.6666666666666666,
              "#ed7953"
             ],
             [
              0.7777777777777778,
              "#fb9f3a"
             ],
             [
              0.8888888888888888,
              "#fdca26"
             ],
             [
              1,
              "#f0f921"
             ]
            ],
            "type": "histogram2dcontour"
           }
          ],
          "mesh3d": [
           {
            "colorbar": {
             "outlinewidth": 0,
             "ticks": ""
            },
            "type": "mesh3d"
           }
          ],
          "parcoords": [
           {
            "line": {
             "colorbar": {
              "outlinewidth": 0,
              "ticks": ""
             }
            },
            "type": "parcoords"
           }
          ],
          "pie": [
           {
            "automargin": true,
            "type": "pie"
           }
          ],
          "scatter": [
           {
            "fillpattern": {
             "fillmode": "overlay",
             "size": 10,
             "solidity": 0.2
            },
            "type": "scatter"
           }
          ],
          "scatter3d": [
           {
            "line": {
             "colorbar": {
              "outlinewidth": 0,
              "ticks": ""
             }
            },
            "marker": {
             "colorbar": {
              "outlinewidth": 0,
              "ticks": ""
             }
            },
            "type": "scatter3d"
           }
          ],
          "scattercarpet": [
           {
            "marker": {
             "colorbar": {
              "outlinewidth": 0,
              "ticks": ""
             }
            },
            "type": "scattercarpet"
           }
          ],
          "scattergeo": [
           {
            "marker": {
             "colorbar": {
              "outlinewidth": 0,
              "ticks": ""
             }
            },
            "type": "scattergeo"
           }
          ],
          "scattergl": [
           {
            "marker": {
             "colorbar": {
              "outlinewidth": 0,
              "ticks": ""
             }
            },
            "type": "scattergl"
           }
          ],
          "scattermapbox": [
           {
            "marker": {
             "colorbar": {
              "outlinewidth": 0,
              "ticks": ""
             }
            },
            "type": "scattermapbox"
           }
          ],
          "scatterpolar": [
           {
            "marker": {
             "colorbar": {
              "outlinewidth": 0,
              "ticks": ""
             }
            },
            "type": "scatterpolar"
           }
          ],
          "scatterpolargl": [
           {
            "marker": {
             "colorbar": {
              "outlinewidth": 0,
              "ticks": ""
             }
            },
            "type": "scatterpolargl"
           }
          ],
          "scatterternary": [
           {
            "marker": {
             "colorbar": {
              "outlinewidth": 0,
              "ticks": ""
             }
            },
            "type": "scatterternary"
           }
          ],
          "surface": [
           {
            "colorbar": {
             "outlinewidth": 0,
             "ticks": ""
            },
            "colorscale": [
             [
              0,
              "#0d0887"
             ],
             [
              0.1111111111111111,
              "#46039f"
             ],
             [
              0.2222222222222222,
              "#7201a8"
             ],
             [
              0.3333333333333333,
              "#9c179e"
             ],
             [
              0.4444444444444444,
              "#bd3786"
             ],
             [
              0.5555555555555556,
              "#d8576b"
             ],
             [
              0.6666666666666666,
              "#ed7953"
             ],
             [
              0.7777777777777778,
              "#fb9f3a"
             ],
             [
              0.8888888888888888,
              "#fdca26"
             ],
             [
              1,
              "#f0f921"
             ]
            ],
            "type": "surface"
           }
          ],
          "table": [
           {
            "cells": {
             "fill": {
              "color": "#EBF0F8"
             },
             "line": {
              "color": "white"
             }
            },
            "header": {
             "fill": {
              "color": "#C8D4E3"
             },
             "line": {
              "color": "white"
             }
            },
            "type": "table"
           }
          ]
         },
         "layout": {
          "annotationdefaults": {
           "arrowcolor": "#2a3f5f",
           "arrowhead": 0,
           "arrowwidth": 1
          },
          "autotypenumbers": "strict",
          "coloraxis": {
           "colorbar": {
            "outlinewidth": 0,
            "ticks": ""
           }
          },
          "colorscale": {
           "diverging": [
            [
             0,
             "#8e0152"
            ],
            [
             0.1,
             "#c51b7d"
            ],
            [
             0.2,
             "#de77ae"
            ],
            [
             0.3,
             "#f1b6da"
            ],
            [
             0.4,
             "#fde0ef"
            ],
            [
             0.5,
             "#f7f7f7"
            ],
            [
             0.6,
             "#e6f5d0"
            ],
            [
             0.7,
             "#b8e186"
            ],
            [
             0.8,
             "#7fbc41"
            ],
            [
             0.9,
             "#4d9221"
            ],
            [
             1,
             "#276419"
            ]
           ],
           "sequential": [
            [
             0,
             "#0d0887"
            ],
            [
             0.1111111111111111,
             "#46039f"
            ],
            [
             0.2222222222222222,
             "#7201a8"
            ],
            [
             0.3333333333333333,
             "#9c179e"
            ],
            [
             0.4444444444444444,
             "#bd3786"
            ],
            [
             0.5555555555555556,
             "#d8576b"
            ],
            [
             0.6666666666666666,
             "#ed7953"
            ],
            [
             0.7777777777777778,
             "#fb9f3a"
            ],
            [
             0.8888888888888888,
             "#fdca26"
            ],
            [
             1,
             "#f0f921"
            ]
           ],
           "sequentialminus": [
            [
             0,
             "#0d0887"
            ],
            [
             0.1111111111111111,
             "#46039f"
            ],
            [
             0.2222222222222222,
             "#7201a8"
            ],
            [
             0.3333333333333333,
             "#9c179e"
            ],
            [
             0.4444444444444444,
             "#bd3786"
            ],
            [
             0.5555555555555556,
             "#d8576b"
            ],
            [
             0.6666666666666666,
             "#ed7953"
            ],
            [
             0.7777777777777778,
             "#fb9f3a"
            ],
            [
             0.8888888888888888,
             "#fdca26"
            ],
            [
             1,
             "#f0f921"
            ]
           ]
          },
          "colorway": [
           "#636efa",
           "#EF553B",
           "#00cc96",
           "#ab63fa",
           "#FFA15A",
           "#19d3f3",
           "#FF6692",
           "#B6E880",
           "#FF97FF",
           "#FECB52"
          ],
          "font": {
           "color": "#2a3f5f"
          },
          "geo": {
           "bgcolor": "white",
           "lakecolor": "white",
           "landcolor": "#E5ECF6",
           "showlakes": true,
           "showland": true,
           "subunitcolor": "white"
          },
          "hoverlabel": {
           "align": "left"
          },
          "hovermode": "closest",
          "mapbox": {
           "style": "light"
          },
          "paper_bgcolor": "white",
          "plot_bgcolor": "#E5ECF6",
          "polar": {
           "angularaxis": {
            "gridcolor": "white",
            "linecolor": "white",
            "ticks": ""
           },
           "bgcolor": "#E5ECF6",
           "radialaxis": {
            "gridcolor": "white",
            "linecolor": "white",
            "ticks": ""
           }
          },
          "scene": {
           "xaxis": {
            "backgroundcolor": "#E5ECF6",
            "gridcolor": "white",
            "gridwidth": 2,
            "linecolor": "white",
            "showbackground": true,
            "ticks": "",
            "zerolinecolor": "white"
           },
           "yaxis": {
            "backgroundcolor": "#E5ECF6",
            "gridcolor": "white",
            "gridwidth": 2,
            "linecolor": "white",
            "showbackground": true,
            "ticks": "",
            "zerolinecolor": "white"
           },
           "zaxis": {
            "backgroundcolor": "#E5ECF6",
            "gridcolor": "white",
            "gridwidth": 2,
            "linecolor": "white",
            "showbackground": true,
            "ticks": "",
            "zerolinecolor": "white"
           }
          },
          "shapedefaults": {
           "line": {
            "color": "#2a3f5f"
           }
          },
          "ternary": {
           "aaxis": {
            "gridcolor": "white",
            "linecolor": "white",
            "ticks": ""
           },
           "baxis": {
            "gridcolor": "white",
            "linecolor": "white",
            "ticks": ""
           },
           "bgcolor": "#E5ECF6",
           "caxis": {
            "gridcolor": "white",
            "linecolor": "white",
            "ticks": ""
           }
          },
          "title": {
           "x": 0.05
          },
          "xaxis": {
           "automargin": true,
           "gridcolor": "white",
           "linecolor": "white",
           "ticks": "",
           "title": {
            "standoff": 15
           },
           "zerolinecolor": "white",
           "zerolinewidth": 2
          },
          "yaxis": {
           "automargin": true,
           "gridcolor": "white",
           "linecolor": "white",
           "ticks": "",
           "title": {
            "standoff": 15
           },
           "zerolinecolor": "white",
           "zerolinewidth": 2
          }
         }
        }
       }
      }
     },
     "metadata": {},
     "output_type": "display_data"
    }
   ],
   "source": [
    "import plotly.express as px\n",
    "\n",
    "x_label = 'state cpc'\n",
    "y_label = 'enroll rate'\n",
    "z_label = 'funding index'\n",
    "\n",
    "x = df_foo.state_cpc.values\n",
    "y = df_foo.enroll_rate.values\n",
    "z = df_foo.funding_index.values\n",
    "\n",
    "df = pd.DataFrame( {\n",
    "    x_label: x,\n",
    "    y_label: y,\n",
    "    z_label: z\n",
    "})\n",
    "\n",
    "# Create the 3D scatter plot\n",
    "fig = px.scatter_3d(df, x=x, y=y, z=z, color=df_foo.state,)\n",
    "\n",
    "# Customize the layout (optional)\n",
    "fig.update_layout(\n",
    "    scene=dict(\n",
    "        xaxis_title=x_label,\n",
    "        yaxis_title=y_label,\n",
    "        zaxis_title=z_label\n",
    "    )\n",
    ")\n",
    "\n",
    "# Show the plot\n",
    "fig.show()\n"
   ]
  }
 ],
 "metadata": {
  "kernelspec": {
   "display_name": "Python 3",
   "language": "python",
   "name": "python3"
  },
  "language_info": {
   "codemirror_mode": {
    "name": "ipython",
    "version": 3
   },
   "file_extension": ".py",
   "mimetype": "text/x-python",
   "name": "python",
   "nbconvert_exporter": "python",
   "pygments_lexer": "ipython3",
   "version": "3.10.4"
  },
  "orig_nbformat": 4
 },
 "nbformat": 4,
 "nbformat_minor": 2
}
